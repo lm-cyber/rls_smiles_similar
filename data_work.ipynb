{
 "metadata": {
  "kernelspec": {
   "language": "python",
   "display_name": "Python 3",
   "name": "python3"
  },
  "language_info": {
   "name": "python",
   "version": "3.10.13",
   "mimetype": "text/x-python",
   "codemirror_mode": {
    "name": "ipython",
    "version": 3
   },
   "pygments_lexer": "ipython3",
   "nbconvert_exporter": "python",
   "file_extension": ".py"
  },
  "kaggle": {
   "accelerator": "gpu",
   "dataSources": [
    {
     "sourceId": 8323430,
     "sourceType": "datasetVersion",
     "datasetId": 4944300
    }
   ],
   "dockerImageVersionId": 30699,
   "isInternetEnabled": true,
   "language": "python",
   "sourceType": "notebook",
   "isGpuEnabled": true
  }
 },
 "nbformat_minor": 4,
 "nbformat": 4,
 "cells": [
  {
   "cell_type": "code",
   "source": [
    "!pip install deepchem[all] >/dev/null"
   ],
   "metadata": {
    "_uuid": "8f2839f25d086af736a60e9eeb907d3b93b6e0e5",
    "_cell_guid": "b1076dfc-b9ad-4769-8c92-a6c4dae69d19",
    "execution": {
     "iopub.status.busy": "2024-05-11T13:03:35.366163Z",
     "iopub.execute_input": "2024-05-11T13:03:35.366946Z",
     "iopub.status.idle": "2024-05-11T13:03:47.517503Z",
     "shell.execute_reply.started": "2024-05-11T13:03:35.366902Z",
     "shell.execute_reply": "2024-05-11T13:03:47.516471Z"
    },
    "trusted": true
   },
   "execution_count": 27,
   "outputs": [
    {
     "name": "stderr",
     "text": "huggingface/tokenizers: The current process just got forked, after parallelism has already been used. Disabling parallelism to avoid deadlocks...\nTo disable this warning, you can either:\n\t- Avoid using `tokenizers` before the fork if possible\n\t- Explicitly set the environment variable TOKENIZERS_PARALLELISM=(true | false)\n",
     "output_type": "stream"
    },
    {
     "name": "stdout",
     "text": "\u001B[33mWARNING: deepchem 2.8.0 does not provide the extra 'all'\u001B[0m\u001B[33m\n\u001B[0m",
     "output_type": "stream"
    }
   ]
  },
  {
   "cell_type": "code",
   "source": [
    "# This Python 3 environment comes with many helpful analytics libraries installed\n",
    "# It is defined by the kaggle/python Docker image: https://github.com/kaggle/docker-python\n",
    "# For example, here's several helpful packages to load\n",
    "\n",
    "import numpy as np # linear algebra\n",
    "import pandas as pd # data processing, CSV file I/O (e.g. pd.read_csv)\n"
   ],
   "metadata": {
    "execution": {
     "iopub.status.busy": "2024-05-11T13:03:47.519728Z",
     "iopub.execute_input": "2024-05-11T13:03:47.520065Z",
     "iopub.status.idle": "2024-05-11T13:03:47.525060Z",
     "shell.execute_reply.started": "2024-05-11T13:03:47.520032Z",
     "shell.execute_reply": "2024-05-11T13:03:47.524156Z"
    },
    "trusted": true
   },
   "execution_count": 28,
   "outputs": []
  },
  {
   "cell_type": "code",
   "source": [
    "!ls /kaggle/input/rls-2024"
   ],
   "metadata": {
    "execution": {
     "iopub.status.busy": "2024-05-11T13:03:47.526360Z",
     "iopub.execute_input": "2024-05-11T13:03:47.526699Z",
     "iopub.status.idle": "2024-05-11T13:03:48.513072Z",
     "shell.execute_reply.started": "2024-05-11T13:03:47.526670Z",
     "shell.execute_reply": "2024-05-11T13:03:48.512008Z"
    },
    "trusted": true
   },
   "execution_count": 29,
   "outputs": [
    {
     "name": "stderr",
     "text": "huggingface/tokenizers: The current process just got forked, after parallelism has already been used. Disabling parallelism to avoid deadlocks...\nTo disable this warning, you can either:\n\t- Avoid using `tokenizers` before the fork if possible\n\t- Explicitly set the environment variable TOKENIZERS_PARALLELISM=(true | false)\n",
     "output_type": "stream"
    },
    {
     "name": "stdout",
     "text": "data_with_cas_and_smiles.csv\n",
     "output_type": "stream"
    }
   ]
  },
  {
   "cell_type": "code",
   "source": [
    "df = pd.read_csv('/kaggle/input/rls-2024/data_with_cas_and_smiles.csv')"
   ],
   "metadata": {
    "execution": {
     "iopub.status.busy": "2024-05-11T13:03:48.514736Z",
     "iopub.execute_input": "2024-05-11T13:03:48.515129Z",
     "iopub.status.idle": "2024-05-11T13:03:48.614068Z",
     "shell.execute_reply.started": "2024-05-11T13:03:48.515074Z",
     "shell.execute_reply": "2024-05-11T13:03:48.612958Z"
    },
    "trusted": true
   },
   "execution_count": 30,
   "outputs": []
  },
  {
   "cell_type": "code",
   "source": [
    "df.drop('Unnamed: 0',axis=1,inplace=True)\n",
    "df"
   ],
   "metadata": {
    "execution": {
     "iopub.status.busy": "2024-05-11T13:03:48.617403Z",
     "iopub.execute_input": "2024-05-11T13:03:48.617713Z",
     "iopub.status.idle": "2024-05-11T13:03:48.642814Z",
     "shell.execute_reply.started": "2024-05-11T13:03:48.617689Z",
     "shell.execute_reply": "2024-05-11T13:03:48.641858Z"
    },
    "trusted": true
   },
   "execution_count": 31,
   "outputs": [
    {
     "execution_count": 31,
     "output_type": "execute_result",
     "data": {
      "text/plain": "      index      name_ru       name_en                               name_lat  \\\n0         0     Абакавир      Abacavir            Abacavirum (род. Abacaviri)   \n1         4    Абатацепт     Abatacept          Abataceptum (род. Abatacepti)   \n2         6   Абиратерон   Abiraterone        Abirateronum (род. Abirateroni)   \n3         7  Аброцитиниб   Abrocitinib      Abrocitinibum (род. Abrocitinibi)   \n4         8   Абциксимаб     Abciximab          Abciximabum (род. Abciximabi)   \n...     ...          ...           ...                                    ...   \n2209   4239  Бенпроперин  Benproperine      Benproperinum (род. Benproperini)   \n2210   4241   Бенсеразид   Benserazide        Benserazidum (род. Benserazidi)   \n2211   4242  Бенфотиамин  Benfotiamine  Benphothiaminum (род. Benphothiamini)   \n2212   4245    Бенциклан    Bencyclane          Bencyclanum (род. Bencyclani)   \n2213   4246     Бепридил      Bepridil            Bepridilum (род. Bepridili)   \n\n                                              name_chem  \\\n0     (1S,4R)-4-[2-Амино-6-(циклопропиламино)-9H-пур...   \n1                                                   NaN   \n2     (3β)-17-(Пиридин-3-ил)андроста-5,16-диен-3-ол ...   \n3     N-[3-[метил(7H-пирролол[2,3-d]пиримидин-4-ил)а...   \n4                                                   NaN   \n...                                                 ...   \n2209  1-[1-Метил-2-[2-(фенилметил)фенокси]этил]пипер...   \n2210  2-[(2,3,4-Тригидроксифенил)метил]гидразид D,L-...   \n2211  S-[2-[[(4-Амино-2-метил-5-пиримидинил)метил]фо...   \n2212  N,N-Диметил-3-[[1-(фенилметил)циклогептил]окси...   \n2213  бета-[(2-Метилпропокси)метил]-N-фенил-N-(фенил...   \n\n             brutto_formula           cas     farm_action  \\\n0                 C14H18N6O   136470-78-5  Характеристика   \n1                       NaN   213252-14-3  Характеристика   \n2                  C24H31NO   154229-19-3  Характеристика   \n3               C14H21N5O2S  1622902-68-4             NaN   \n4     C2101H3229N551O673S15   143653-53-6  Характеристика   \n...                     ...           ...             ...   \n2209               C21H27NO     2156-27-6             NaN   \n2210             C10H15N3O5    14919-77-8             NaN   \n2211           C19H23N4O6PS    22457-89-2  Характеристика   \n2212               C19H31NO     2179-37-5  Характеристика   \n2213              C24H34N20    64706-54-3  Характеристика   \n\n                                            description  \\\n0     Синтетический карбоциклический нуклеозидный ан...   \n1     Рекомбинантный белок с молекулярной массой око...   \n2     Абиратерон является ингибитором CYP17 (17α-гид...   \n3                                                   NaN   \n4     Fab-фрагмент химерных человеческо/мышиных моно...   \n...                                                 ...   \n2209                                                NaN   \n2210                                                NaN   \n2211  Белый кристаллический порошок с характерным за...   \n2212  Бенциклана фумарат — белое кристаллическое вещ...   \n2213  Белый или бесцветный кристаллический порошок. ...   \n\n                                                farmacy  \\\n0     Ингибирует обратную транскриптазу ВИЧ−1 и ВИЧ−...   \n1                                       Фармакодинамика   \n2                                     Механизм действия   \n3                                                   NaN   \n4     Вызывает конформационные изменения связывающег...   \n...                                                 ...   \n2209                                                NaN   \n2210                                                NaN   \n2211  Восполняет дефицит витамина B1, нормализует об...   \n2212  Снижает тонус и двигательную активность гладки...   \n2213  Блокирует кальциевые каналы, нарушая ток входя...   \n\n                                                    use  \\\n0               ВИЧ-инфекция (комбинированная терапия).   \n1     Абатацепт показан для уменьшения симптомов, ус...   \n2     Абиратерон показан в сочетании с преднизоном д...   \n3                                                   NaN   \n4     Тромбофилические состояния, в т.ч. острый инфа...   \n...                                                 ...   \n2209                                                NaN   \n2210                                                NaN   \n2211  Гипо- и авитаминоз B1, атеросклероз, ИБС, ревм...   \n2212  Нарушения мозгового кровообращения, церебровас...   \n2213  Стенокардия напряжения, вазоспастическая стено...   \n\n                                       contraindication  \\\n0                                Гиперчувствительность.   \n1     Гиперчувствительность; совместное применение с...   \n2                                                  Нет.   \n3                                                   NaN   \n4     Гиперчувствительность, внутреннее кровотечение...   \n...                                                 ...   \n2209                                                NaN   \n2210                                                NaN   \n2211                             Гиперчувствительность.   \n2212  Гиперчувствительность, почечная недостаточност...   \n2213  Гиперчувствительность, аритмии, AV блокада, си...   \n\n                                           restrictions  \\\n0     Заболевания печени, ранний грудной возраст (до...   \n1     Рецидивирующие инфекции; состояния, предраспол...   \n2                                                   NaN   \n3                                                   NaN   \n4                                                   NaN   \n...                                                 ...   \n2209                                                NaN   \n2210                                                NaN   \n2211                                                NaN   \n2212                                                NaN   \n2213  Беременность (нет сведений о применении), груд...   \n\n                                           side_effects  \\\n0     Реакции гиперчувствительности замедленного тип...   \n1     Ниже перечислены нежелательные лекарственные р...   \n2     Следующие побочные действия более подробно опи...   \n3                                                   NaN   \n4     Кровотечения в месте прокола артерии, внутренн...   \n...                                                 ...   \n2209                                                NaN   \n2210                                                NaN   \n2211                                                NaN   \n2212  Головокружение, головная боль, общая слабость,...   \n2213  Головная боль, головокружение, слабость, сонли...   \n\n                    method_of_administration_and_dosage  \\\n0     Внутрь, независимо от приема пищи, в строго оп...   \n1                                          П/к или в/в.   \n2                                           Перорально.   \n3                                                   NaN   \n4     В/в, болюсно, за 10–60 мин до коронарной ангио...   \n...                                                 ...   \n2209                                                NaN   \n2210                                                NaN   \n2211  Внутрь. Взрослым — по 0,025–0,05 г 1–4 раза в ...   \n2212  Внутрь — по 100–200 мг 1–2 раза в сутки в тече...   \n2213  Внутрь, для взрослых — 200–300 мг 1 раз в сутк...   \n\n                                                 smiles  \n0         Nc1nc(NC2CC2)c3ncn([C@@H]4C[C@H](CO)C=C4)c3n1  \n1                                                   NaN  \n2     C[C@]12CC[C@H](O)CC1=CC[C@@H]3[C@@H]2CC[C@@]4(...  \n3                                                   NaN  \n4                                                   NaN  \n...                                                 ...  \n2209                    CC(COc1ccccc1Cc2ccccc2)N3CCCCC3  \n2210           [H+].[Cl-].NC(CO)C(=O)NNCc1ccc(O)c(O)c1O  \n2211  Cc1ncc(CN(C=O)C(/C)=C(/CCO[P](O)(O)=O)SC(=O)c2...  \n2212                      CN(C)CCCOC1(CCCCCC1)Cc2ccccc2  \n2213  [H+].O.[Cl-].CC(C)COCC(CN(Cc1ccccc1)c2ccccc2)N...  \n\n[2214 rows x 16 columns]",
      "text/html": "<div>\n<style scoped>\n    .dataframe tbody tr th:only-of-type {\n        vertical-align: middle;\n    }\n\n    .dataframe tbody tr th {\n        vertical-align: top;\n    }\n\n    .dataframe thead th {\n        text-align: right;\n    }\n</style>\n<table border=\"1\" class=\"dataframe\">\n  <thead>\n    <tr style=\"text-align: right;\">\n      <th></th>\n      <th>index</th>\n      <th>name_ru</th>\n      <th>name_en</th>\n      <th>name_lat</th>\n      <th>name_chem</th>\n      <th>brutto_formula</th>\n      <th>cas</th>\n      <th>farm_action</th>\n      <th>description</th>\n      <th>farmacy</th>\n      <th>use</th>\n      <th>contraindication</th>\n      <th>restrictions</th>\n      <th>side_effects</th>\n      <th>method_of_administration_and_dosage</th>\n      <th>smiles</th>\n    </tr>\n  </thead>\n  <tbody>\n    <tr>\n      <th>0</th>\n      <td>0</td>\n      <td>Абакавир</td>\n      <td>Abacavir</td>\n      <td>Abacavirum (род. Abacaviri)</td>\n      <td>(1S,4R)-4-[2-Амино-6-(циклопропиламино)-9H-пур...</td>\n      <td>C14H18N6O</td>\n      <td>136470-78-5</td>\n      <td>Характеристика</td>\n      <td>Синтетический карбоциклический нуклеозидный ан...</td>\n      <td>Ингибирует обратную транскриптазу ВИЧ−1 и ВИЧ−...</td>\n      <td>ВИЧ-инфекция (комбинированная терапия).</td>\n      <td>Гиперчувствительность.</td>\n      <td>Заболевания печени, ранний грудной возраст (до...</td>\n      <td>Реакции гиперчувствительности замедленного тип...</td>\n      <td>Внутрь, независимо от приема пищи, в строго оп...</td>\n      <td>Nc1nc(NC2CC2)c3ncn([C@@H]4C[C@H](CO)C=C4)c3n1</td>\n    </tr>\n    <tr>\n      <th>1</th>\n      <td>4</td>\n      <td>Абатацепт</td>\n      <td>Abatacept</td>\n      <td>Abataceptum (род. Abatacepti)</td>\n      <td>NaN</td>\n      <td>NaN</td>\n      <td>213252-14-3</td>\n      <td>Характеристика</td>\n      <td>Рекомбинантный белок с молекулярной массой око...</td>\n      <td>Фармакодинамика</td>\n      <td>Абатацепт показан для уменьшения симптомов, ус...</td>\n      <td>Гиперчувствительность; совместное применение с...</td>\n      <td>Рецидивирующие инфекции; состояния, предраспол...</td>\n      <td>Ниже перечислены нежелательные лекарственные р...</td>\n      <td>П/к или в/в.</td>\n      <td>NaN</td>\n    </tr>\n    <tr>\n      <th>2</th>\n      <td>6</td>\n      <td>Абиратерон</td>\n      <td>Abiraterone</td>\n      <td>Abirateronum (род. Abirateroni)</td>\n      <td>(3β)-17-(Пиридин-3-ил)андроста-5,16-диен-3-ол ...</td>\n      <td>C24H31NO</td>\n      <td>154229-19-3</td>\n      <td>Характеристика</td>\n      <td>Абиратерон является ингибитором CYP17 (17α-гид...</td>\n      <td>Механизм действия</td>\n      <td>Абиратерон показан в сочетании с преднизоном д...</td>\n      <td>Нет.</td>\n      <td>NaN</td>\n      <td>Следующие побочные действия более подробно опи...</td>\n      <td>Перорально.</td>\n      <td>C[C@]12CC[C@H](O)CC1=CC[C@@H]3[C@@H]2CC[C@@]4(...</td>\n    </tr>\n    <tr>\n      <th>3</th>\n      <td>7</td>\n      <td>Аброцитиниб</td>\n      <td>Abrocitinib</td>\n      <td>Abrocitinibum (род. Abrocitinibi)</td>\n      <td>N-[3-[метил(7H-пирролол[2,3-d]пиримидин-4-ил)а...</td>\n      <td>C14H21N5O2S</td>\n      <td>1622902-68-4</td>\n      <td>NaN</td>\n      <td>NaN</td>\n      <td>NaN</td>\n      <td>NaN</td>\n      <td>NaN</td>\n      <td>NaN</td>\n      <td>NaN</td>\n      <td>NaN</td>\n      <td>NaN</td>\n    </tr>\n    <tr>\n      <th>4</th>\n      <td>8</td>\n      <td>Абциксимаб</td>\n      <td>Abciximab</td>\n      <td>Abciximabum (род. Abciximabi)</td>\n      <td>NaN</td>\n      <td>C2101H3229N551O673S15</td>\n      <td>143653-53-6</td>\n      <td>Характеристика</td>\n      <td>Fab-фрагмент химерных человеческо/мышиных моно...</td>\n      <td>Вызывает конформационные изменения связывающег...</td>\n      <td>Тромбофилические состояния, в т.ч. острый инфа...</td>\n      <td>Гиперчувствительность, внутреннее кровотечение...</td>\n      <td>NaN</td>\n      <td>Кровотечения в месте прокола артерии, внутренн...</td>\n      <td>В/в, болюсно, за 10–60 мин до коронарной ангио...</td>\n      <td>NaN</td>\n    </tr>\n    <tr>\n      <th>...</th>\n      <td>...</td>\n      <td>...</td>\n      <td>...</td>\n      <td>...</td>\n      <td>...</td>\n      <td>...</td>\n      <td>...</td>\n      <td>...</td>\n      <td>...</td>\n      <td>...</td>\n      <td>...</td>\n      <td>...</td>\n      <td>...</td>\n      <td>...</td>\n      <td>...</td>\n      <td>...</td>\n    </tr>\n    <tr>\n      <th>2209</th>\n      <td>4239</td>\n      <td>Бенпроперин</td>\n      <td>Benproperine</td>\n      <td>Benproperinum (род. Benproperini)</td>\n      <td>1-[1-Метил-2-[2-(фенилметил)фенокси]этил]пипер...</td>\n      <td>C21H27NO</td>\n      <td>2156-27-6</td>\n      <td>NaN</td>\n      <td>NaN</td>\n      <td>NaN</td>\n      <td>NaN</td>\n      <td>NaN</td>\n      <td>NaN</td>\n      <td>NaN</td>\n      <td>NaN</td>\n      <td>CC(COc1ccccc1Cc2ccccc2)N3CCCCC3</td>\n    </tr>\n    <tr>\n      <th>2210</th>\n      <td>4241</td>\n      <td>Бенсеразид</td>\n      <td>Benserazide</td>\n      <td>Benserazidum (род. Benserazidi)</td>\n      <td>2-[(2,3,4-Тригидроксифенил)метил]гидразид D,L-...</td>\n      <td>C10H15N3O5</td>\n      <td>14919-77-8</td>\n      <td>NaN</td>\n      <td>NaN</td>\n      <td>NaN</td>\n      <td>NaN</td>\n      <td>NaN</td>\n      <td>NaN</td>\n      <td>NaN</td>\n      <td>NaN</td>\n      <td>[H+].[Cl-].NC(CO)C(=O)NNCc1ccc(O)c(O)c1O</td>\n    </tr>\n    <tr>\n      <th>2211</th>\n      <td>4242</td>\n      <td>Бенфотиамин</td>\n      <td>Benfotiamine</td>\n      <td>Benphothiaminum (род. Benphothiamini)</td>\n      <td>S-[2-[[(4-Амино-2-метил-5-пиримидинил)метил]фо...</td>\n      <td>C19H23N4O6PS</td>\n      <td>22457-89-2</td>\n      <td>Характеристика</td>\n      <td>Белый кристаллический порошок с характерным за...</td>\n      <td>Восполняет дефицит витамина B1, нормализует об...</td>\n      <td>Гипо- и авитаминоз B1, атеросклероз, ИБС, ревм...</td>\n      <td>Гиперчувствительность.</td>\n      <td>NaN</td>\n      <td>NaN</td>\n      <td>Внутрь. Взрослым — по 0,025–0,05 г 1–4 раза в ...</td>\n      <td>Cc1ncc(CN(C=O)C(/C)=C(/CCO[P](O)(O)=O)SC(=O)c2...</td>\n    </tr>\n    <tr>\n      <th>2212</th>\n      <td>4245</td>\n      <td>Бенциклан</td>\n      <td>Bencyclane</td>\n      <td>Bencyclanum (род. Bencyclani)</td>\n      <td>N,N-Диметил-3-[[1-(фенилметил)циклогептил]окси...</td>\n      <td>C19H31NO</td>\n      <td>2179-37-5</td>\n      <td>Характеристика</td>\n      <td>Бенциклана фумарат — белое кристаллическое вещ...</td>\n      <td>Снижает тонус и двигательную активность гладки...</td>\n      <td>Нарушения мозгового кровообращения, церебровас...</td>\n      <td>Гиперчувствительность, почечная недостаточност...</td>\n      <td>NaN</td>\n      <td>Головокружение, головная боль, общая слабость,...</td>\n      <td>Внутрь — по 100–200 мг 1–2 раза в сутки в тече...</td>\n      <td>CN(C)CCCOC1(CCCCCC1)Cc2ccccc2</td>\n    </tr>\n    <tr>\n      <th>2213</th>\n      <td>4246</td>\n      <td>Бепридил</td>\n      <td>Bepridil</td>\n      <td>Bepridilum (род. Bepridili)</td>\n      <td>бета-[(2-Метилпропокси)метил]-N-фенил-N-(фенил...</td>\n      <td>C24H34N20</td>\n      <td>64706-54-3</td>\n      <td>Характеристика</td>\n      <td>Белый или бесцветный кристаллический порошок. ...</td>\n      <td>Блокирует кальциевые каналы, нарушая ток входя...</td>\n      <td>Стенокардия напряжения, вазоспастическая стено...</td>\n      <td>Гиперчувствительность, аритмии, AV блокада, си...</td>\n      <td>Беременность (нет сведений о применении), груд...</td>\n      <td>Головная боль, головокружение, слабость, сонли...</td>\n      <td>Внутрь, для взрослых — 200–300 мг 1 раз в сутк...</td>\n      <td>[H+].O.[Cl-].CC(C)COCC(CN(Cc1ccccc1)c2ccccc2)N...</td>\n    </tr>\n  </tbody>\n</table>\n<p>2214 rows × 16 columns</p>\n</div>"
     },
     "metadata": {}
    }
   ]
  },
  {
   "cell_type": "code",
   "source": [
    "import torch\n",
    "torch.cuda.is_available()"
   ],
   "metadata": {
    "execution": {
     "iopub.status.busy": "2024-05-11T13:03:48.644307Z",
     "iopub.execute_input": "2024-05-11T13:03:48.644751Z",
     "iopub.status.idle": "2024-05-11T13:03:48.654881Z",
     "shell.execute_reply.started": "2024-05-11T13:03:48.644717Z",
     "shell.execute_reply": "2024-05-11T13:03:48.653712Z"
    },
    "trusted": true
   },
   "execution_count": 32,
   "outputs": [
    {
     "execution_count": 32,
     "output_type": "execute_result",
     "data": {
      "text/plain": "True"
     },
     "metadata": {}
    }
   ]
  },
  {
   "cell_type": "code",
   "source": [
    "from transformers import BertTokenizerFast, BertModel\n",
    "checkpoint = 'unikei/bert-base-smiles'\n",
    "tokenizer = BertTokenizerFast.from_pretrained(checkpoint)\n",
    "model = BertModel.from_pretrained(checkpoint,output_hidden_states=True).to('cuda:0')\n",
    "\n",
    "# example = 'O=C([C@@H](c1ccc(cc1)O)N)N[C@@H]1C(=O)N2[C@@H]1SC([C@@H]2C(=O)O)(C)C'\n",
    "# tokens = tokenizer(example, return_tensors='pt')\n",
    "# predictions = model(**tokens)\n",
    "\n"
   ],
   "metadata": {
    "execution": {
     "iopub.status.busy": "2024-05-11T13:03:48.656007Z",
     "iopub.execute_input": "2024-05-11T13:03:48.656846Z",
     "iopub.status.idle": "2024-05-11T13:03:49.410462Z",
     "shell.execute_reply.started": "2024-05-11T13:03:48.656817Z",
     "shell.execute_reply": "2024-05-11T13:03:49.409448Z"
    },
    "trusted": true
   },
   "execution_count": 33,
   "outputs": []
  },
  {
   "cell_type": "code",
   "source": [
    "def embed_bert_cls(text, model, tokenizer):\n",
    "    t = tokenizer(text, padding=True, truncation=True, return_tensors='pt')\n",
    "    with torch.no_grad():\n",
    "        model_output = model(**{k: v.to(model.device) for k, v in t.items()})\n",
    "    t= {k: v.cpu() for k, v in t.items()}\n",
    "    embeddings = model_output.last_hidden_state[:, 0, :]\n",
    "    embeddings = torch.nn.functional.normalize(embeddings)\n",
    "    return embeddings.cpu().numpy()"
   ],
   "metadata": {
    "execution": {
     "iopub.status.busy": "2024-05-11T13:03:49.411875Z",
     "iopub.execute_input": "2024-05-11T13:03:49.412232Z",
     "iopub.status.idle": "2024-05-11T13:03:49.418935Z",
     "shell.execute_reply.started": "2024-05-11T13:03:49.412205Z",
     "shell.execute_reply": "2024-05-11T13:03:49.417909Z"
    },
    "trusted": true
   },
   "execution_count": 34,
   "outputs": []
  },
  {
   "cell_type": "code",
   "source": [
    "df = df[~df['smiles'].isna()]"
   ],
   "metadata": {
    "execution": {
     "iopub.status.busy": "2024-05-11T13:03:49.420548Z",
     "iopub.execute_input": "2024-05-11T13:03:49.420891Z",
     "iopub.status.idle": "2024-05-11T13:03:49.433525Z",
     "shell.execute_reply.started": "2024-05-11T13:03:49.420861Z",
     "shell.execute_reply": "2024-05-11T13:03:49.432577Z"
    },
    "trusted": true
   },
   "execution_count": 35,
   "outputs": []
  },
  {
   "cell_type": "code",
   "source": [
    "len(df)"
   ],
   "metadata": {
    "execution": {
     "iopub.status.busy": "2024-05-11T13:03:49.434636Z",
     "iopub.execute_input": "2024-05-11T13:03:49.434918Z",
     "iopub.status.idle": "2024-05-11T13:03:49.446747Z",
     "shell.execute_reply.started": "2024-05-11T13:03:49.434895Z",
     "shell.execute_reply": "2024-05-11T13:03:49.445897Z"
    },
    "trusted": true
   },
   "execution_count": 36,
   "outputs": [
    {
     "execution_count": 36,
     "output_type": "execute_result",
     "data": {
      "text/plain": "1874"
     },
     "metadata": {}
    }
   ]
  },
  {
   "cell_type": "code",
   "source": [
    "smiles =df['smiles'].tolist()"
   ],
   "metadata": {
    "execution": {
     "iopub.status.busy": "2024-05-11T13:03:49.447722Z",
     "iopub.execute_input": "2024-05-11T13:03:49.448019Z",
     "iopub.status.idle": "2024-05-11T13:03:49.456719Z",
     "shell.execute_reply.started": "2024-05-11T13:03:49.447995Z",
     "shell.execute_reply": "2024-05-11T13:03:49.455876Z"
    },
    "trusted": true
   },
   "execution_count": 37,
   "outputs": []
  },
  {
   "cell_type": "code",
   "source": [
    "k=128\n",
    "batches = [smiles[i:i+k] for i in range(0,len(smiles),k)]"
   ],
   "metadata": {
    "execution": {
     "iopub.status.busy": "2024-05-11T13:03:49.458697Z",
     "iopub.execute_input": "2024-05-11T13:03:49.459352Z",
     "iopub.status.idle": "2024-05-11T13:03:49.467149Z",
     "shell.execute_reply.started": "2024-05-11T13:03:49.459327Z",
     "shell.execute_reply": "2024-05-11T13:03:49.466342Z"
    },
    "trusted": true
   },
   "execution_count": 38,
   "outputs": []
  },
  {
   "cell_type": "code",
   "source": [
    "len(batches)"
   ],
   "metadata": {
    "execution": {
     "iopub.status.busy": "2024-05-11T13:03:49.468453Z",
     "iopub.execute_input": "2024-05-11T13:03:49.468820Z",
     "iopub.status.idle": "2024-05-11T13:03:49.479884Z",
     "shell.execute_reply.started": "2024-05-11T13:03:49.468791Z",
     "shell.execute_reply": "2024-05-11T13:03:49.479060Z"
    },
    "trusted": true
   },
   "execution_count": 39,
   "outputs": [
    {
     "execution_count": 39,
     "output_type": "execute_result",
     "data": {
      "text/plain": "15"
     },
     "metadata": {}
    }
   ]
  },
  {
   "cell_type": "code",
   "source": [
    "len(batches[-1])"
   ],
   "metadata": {
    "execution": {
     "iopub.status.busy": "2024-05-11T13:03:49.484174Z",
     "iopub.execute_input": "2024-05-11T13:03:49.484437Z",
     "iopub.status.idle": "2024-05-11T13:03:49.491250Z",
     "shell.execute_reply.started": "2024-05-11T13:03:49.484415Z",
     "shell.execute_reply": "2024-05-11T13:03:49.490383Z"
    },
    "trusted": true
   },
   "execution_count": 40,
   "outputs": [
    {
     "execution_count": 40,
     "output_type": "execute_result",
     "data": {
      "text/plain": "82"
     },
     "metadata": {}
    }
   ]
  },
  {
   "cell_type": "code",
   "source": [
    "batches_len = [len(i) for i in batches]\n",
    "sum(batches_len)"
   ],
   "metadata": {
    "execution": {
     "iopub.status.busy": "2024-05-11T13:03:49.492454Z",
     "iopub.execute_input": "2024-05-11T13:03:49.492696Z",
     "iopub.status.idle": "2024-05-11T13:03:49.503724Z",
     "shell.execute_reply.started": "2024-05-11T13:03:49.492675Z",
     "shell.execute_reply": "2024-05-11T13:03:49.502873Z"
    },
    "trusted": true
   },
   "execution_count": 41,
   "outputs": [
    {
     "execution_count": 41,
     "output_type": "execute_result",
     "data": {
      "text/plain": "1874"
     },
     "metadata": {}
    }
   ]
  },
  {
   "cell_type": "code",
   "source": [
    "import gc\n",
    "torch.cuda.empty_cache()\n",
    "gc.collect()\n",
    "from tqdm import tqdm"
   ],
   "metadata": {
    "execution": {
     "iopub.status.busy": "2024-05-11T13:03:49.504960Z",
     "iopub.execute_input": "2024-05-11T13:03:49.505298Z",
     "iopub.status.idle": "2024-05-11T13:03:49.752714Z",
     "shell.execute_reply.started": "2024-05-11T13:03:49.505269Z",
     "shell.execute_reply": "2024-05-11T13:03:49.751373Z"
    },
    "trusted": true
   },
   "execution_count": 42,
   "outputs": []
  },
  {
   "cell_type": "code",
   "source": [
    "\n",
    "\n",
    "all_embedding = []\n",
    "for part in tqdm(batches):\n",
    "    all_embedding.append(embed_bert_cls(part,model,tokenizer))\n",
    "    \n",
    "    torch.cuda.empty_cache()\n",
    "    gc.collect()\n"
   ],
   "metadata": {
    "execution": {
     "iopub.status.busy": "2024-05-11T13:03:49.754169Z",
     "iopub.execute_input": "2024-05-11T13:03:49.754606Z",
     "iopub.status.idle": "2024-05-11T13:04:15.107294Z",
     "shell.execute_reply.started": "2024-05-11T13:03:49.754569Z",
     "shell.execute_reply": "2024-05-11T13:04:15.106404Z"
    },
    "trusted": true
   },
   "execution_count": 43,
   "outputs": [
    {
     "name": "stderr",
     "text": "100%|██████████| 15/15 [00:25<00:00,  1.69s/it]\n",
     "output_type": "stream"
    }
   ]
  },
  {
   "cell_type": "code",
   "source": [
    "all_embedding[0].shape"
   ],
   "metadata": {
    "execution": {
     "iopub.status.busy": "2024-05-11T13:04:15.108609Z",
     "iopub.execute_input": "2024-05-11T13:04:15.109364Z",
     "iopub.status.idle": "2024-05-11T13:04:15.115090Z",
     "shell.execute_reply.started": "2024-05-11T13:04:15.109328Z",
     "shell.execute_reply": "2024-05-11T13:04:15.114074Z"
    },
    "trusted": true
   },
   "execution_count": 44,
   "outputs": [
    {
     "execution_count": 44,
     "output_type": "execute_result",
     "data": {
      "text/plain": "(128, 768)"
     },
     "metadata": {}
    }
   ]
  },
  {
   "cell_type": "code",
   "source": [
    "all_embedding[-1].shape"
   ],
   "metadata": {
    "execution": {
     "iopub.status.busy": "2024-05-11T13:04:15.116184Z",
     "iopub.execute_input": "2024-05-11T13:04:15.116438Z",
     "iopub.status.idle": "2024-05-11T13:04:15.128927Z",
     "shell.execute_reply.started": "2024-05-11T13:04:15.116416Z",
     "shell.execute_reply": "2024-05-11T13:04:15.128115Z"
    },
    "trusted": true
   },
   "execution_count": 45,
   "outputs": [
    {
     "execution_count": 45,
     "output_type": "execute_result",
     "data": {
      "text/plain": "(82, 768)"
     },
     "metadata": {}
    }
   ]
  },
  {
   "cell_type": "code",
   "source": [
    "all_embedding_concat=np.concatenate(all_embedding, axis=0)"
   ],
   "metadata": {
    "execution": {
     "iopub.status.busy": "2024-05-11T13:04:15.130023Z",
     "iopub.execute_input": "2024-05-11T13:04:15.130312Z",
     "iopub.status.idle": "2024-05-11T13:04:15.142686Z",
     "shell.execute_reply.started": "2024-05-11T13:04:15.130290Z",
     "shell.execute_reply": "2024-05-11T13:04:15.141913Z"
    },
    "trusted": true
   },
   "execution_count": 46,
   "outputs": []
  },
  {
   "cell_type": "code",
   "source": [
    "all_embedding_concat.shape"
   ],
   "metadata": {
    "execution": {
     "iopub.status.busy": "2024-05-11T13:04:15.143828Z",
     "iopub.execute_input": "2024-05-11T13:04:15.144204Z",
     "iopub.status.idle": "2024-05-11T13:04:15.149948Z",
     "shell.execute_reply.started": "2024-05-11T13:04:15.144173Z",
     "shell.execute_reply": "2024-05-11T13:04:15.149024Z"
    },
    "trusted": true
   },
   "execution_count": 47,
   "outputs": [
    {
     "execution_count": 47,
     "output_type": "execute_result",
     "data": {
      "text/plain": "(1874, 768)"
     },
     "metadata": {}
    }
   ]
  },
  {
   "cell_type": "code",
   "source": [
    "# emd = list(all_embedding_concat)\n",
    "emd = all_embedding_concat"
   ],
   "metadata": {
    "execution": {
     "iopub.status.busy": "2024-05-11T13:04:15.151001Z",
     "iopub.execute_input": "2024-05-11T13:04:15.151292Z",
     "iopub.status.idle": "2024-05-11T13:04:15.158007Z",
     "shell.execute_reply.started": "2024-05-11T13:04:15.151270Z",
     "shell.execute_reply": "2024-05-11T13:04:15.157291Z"
    },
    "trusted": true
   },
   "execution_count": 48,
   "outputs": []
  },
  {
   "cell_type": "code",
   "source": [
    "len(emd[0]),len(emd)"
   ],
   "metadata": {
    "execution": {
     "iopub.status.busy": "2024-05-11T13:04:15.159028Z",
     "iopub.execute_input": "2024-05-11T13:04:15.159306Z",
     "iopub.status.idle": "2024-05-11T13:04:15.169318Z",
     "shell.execute_reply.started": "2024-05-11T13:04:15.159284Z",
     "shell.execute_reply": "2024-05-11T13:04:15.168478Z"
    },
    "trusted": true
   },
   "execution_count": 49,
   "outputs": [
    {
     "execution_count": 49,
     "output_type": "execute_result",
     "data": {
      "text/plain": "(768, 1874)"
     },
     "metadata": {}
    }
   ]
  },
  {
   "cell_type": "code",
   "source": [
    "# df['embedding'] =emd"
   ],
   "metadata": {
    "execution": {
     "iopub.status.busy": "2024-05-11T13:12:09.213876Z",
     "iopub.execute_input": "2024-05-11T13:12:09.214553Z",
     "iopub.status.idle": "2024-05-11T13:12:09.218622Z",
     "shell.execute_reply.started": "2024-05-11T13:12:09.214519Z",
     "shell.execute_reply": "2024-05-11T13:12:09.217697Z"
    },
    "trusted": true
   },
   "execution_count": 51,
   "outputs": []
  },
  {
   "cell_type": "code",
   "source": [
    "df"
   ],
   "metadata": {
    "execution": {
     "iopub.status.busy": "2024-05-11T13:12:09.954009Z",
     "iopub.execute_input": "2024-05-11T13:12:09.954392Z",
     "iopub.status.idle": "2024-05-11T13:12:09.978691Z",
     "shell.execute_reply.started": "2024-05-11T13:12:09.954364Z",
     "shell.execute_reply": "2024-05-11T13:12:09.977543Z"
    },
    "trusted": true
   },
   "execution_count": 52,
   "outputs": [
    {
     "execution_count": 52,
     "output_type": "execute_result",
     "data": {
      "text/plain": "      index      name_ru       name_en                               name_lat  \\\n0         0     Абакавир      Abacavir            Abacavirum (род. Abacaviri)   \n2         6   Абиратерон   Abiraterone        Abirateronum (род. Abirateroni)   \n6        10     Аванафил      Avanafil            Avanafilum (род. Avanafili)   \n8        16   Агомелатин   Agomelatine        Agomelatinum (род. Agomelatini)   \n11       20     Адапален     Adapalene            Adapalenum (род. Adapaleni)   \n...     ...          ...           ...                                    ...   \n2209   4239  Бенпроперин  Benproperine      Benproperinum (род. Benproperini)   \n2210   4241   Бенсеразид   Benserazide        Benserazidum (род. Benserazidi)   \n2211   4242  Бенфотиамин  Benfotiamine  Benphothiaminum (род. Benphothiamini)   \n2212   4245    Бенциклан    Bencyclane          Bencyclanum (род. Bencyclani)   \n2213   4246     Бепридил      Bepridil            Bepridilum (род. Bepridili)   \n\n                                              name_chem brutto_formula  \\\n0     (1S,4R)-4-[2-Амино-6-(циклопропиламино)-9H-пур...      C14H18N6O   \n2     (3β)-17-(Пиридин-3-ил)андроста-5,16-диен-3-ол ...       C24H31NO   \n6     4-[(3-хлоро-4-метоксифенил)метиламино]-2-[(2S)...   C23H26ClN7O3   \n8            N-[2-(7-Метоксинафталин-1-ил)этил]ацетамид      C15H17NO2   \n11    6-(4-Метокси-3-трицикло[3.3.1.1(3',7)]дец-1-ил...       C28H28O3   \n...                                                 ...            ...   \n2209  1-[1-Метил-2-[2-(фенилметил)фенокси]этил]пипер...       C21H27NO   \n2210  2-[(2,3,4-Тригидроксифенил)метил]гидразид D,L-...     C10H15N3O5   \n2211  S-[2-[[(4-Амино-2-метил-5-пиримидинил)метил]фо...   C19H23N4O6PS   \n2212  N,N-Диметил-3-[[1-(фенилметил)циклогептил]окси...       C19H31NO   \n2213  бета-[(2-Метилпропокси)метил]-N-фенил-N-(фенил...      C24H34N20   \n\n              cas     farm_action  \\\n0     136470-78-5  Характеристика   \n2     154229-19-3  Характеристика   \n6     330784-47-9    Фармакология   \n8     138112-76-2             NaN   \n11    106685-40-9  Характеристика   \n...           ...             ...   \n2209    2156-27-6             NaN   \n2210   14919-77-8             NaN   \n2211   22457-89-2  Характеристика   \n2212    2179-37-5  Характеристика   \n2213   64706-54-3  Характеристика   \n\n                                            description  \\\n0     Синтетический карбоциклический нуклеозидный ан...   \n2     Абиратерон является ингибитором CYP17 (17α-гид...   \n6                                                   NaN   \n8                                                   NaN   \n11    Синтетический аналог ретиноевой кислоты, произ...   \n...                                                 ...   \n2209                                                NaN   \n2210                                                NaN   \n2211  Белый кристаллический порошок с характерным за...   \n2212  Бенциклана фумарат — белое кристаллическое вещ...   \n2213  Белый или бесцветный кристаллический порошок. ...   \n\n                                                farmacy  \\\n0     Ингибирует обратную транскриптазу ВИЧ−1 и ВИЧ−...   \n2                                     Механизм действия   \n6                                       Фармакодинамика   \n8                                                   NaN   \n11    Адапален — химически стабильное, ретиноидоподо...   \n...                                                 ...   \n2209                                                NaN   \n2210                                                NaN   \n2211  Восполняет дефицит витамина B1, нормализует об...   \n2212  Снижает тонус и двигательную активность гладки...   \n2213  Блокирует кальциевые каналы, нарушая ток входя...   \n\n                                                    use  \\\n0               ВИЧ-инфекция (комбинированная терапия).   \n2     Абиратерон показан в сочетании с преднизоном д...   \n6     Лечение эректильной дисфункции у взрослых мужчин.   \n8                                                   NaN   \n11       Обыкновенные (юношеские) угри (acne vulgaris).   \n...                                                 ...   \n2209                                                NaN   \n2210                                                NaN   \n2211  Гипо- и авитаминоз B1, атеросклероз, ИБС, ревм...   \n2212  Нарушения мозгового кровообращения, церебровас...   \n2213  Стенокардия напряжения, вазоспастическая стено...   \n\n                                       contraindication  \\\n0                                Гиперчувствительность.   \n2                                                  Нет.   \n6     Повышенная чувствительность к аванафилу; однов...   \n8                                                   NaN   \n11                               Гиперчувствительность.   \n...                                                 ...   \n2209                                                NaN   \n2210                                                NaN   \n2211                             Гиперчувствительность.   \n2212  Гиперчувствительность, почечная недостаточност...   \n2213  Гиперчувствительность, аритмии, AV блокада, си...   \n\n                                           restrictions  \\\n0     Заболевания печени, ранний грудной возраст (до...   \n2                                                   NaN   \n6     Обструкциея оттока крови из левого желудочка (...   \n8                                                   NaN   \n11    Себорейный дерматит, экзема, детский возраст (...   \n...                                                 ...   \n2209                                                NaN   \n2210                                                NaN   \n2211                                                NaN   \n2212                                                NaN   \n2213  Беременность (нет сведений о применении), груд...   \n\n                                           side_effects  \\\n0     Реакции гиперчувствительности замедленного тип...   \n2     Следующие побочные действия более подробно опи...   \n6                                  Профиль безопасности   \n8                                                   NaN   \n11                                            Крем 0,1%   \n...                                                 ...   \n2209                                                NaN   \n2210                                                NaN   \n2211                                                NaN   \n2212  Головокружение, головная боль, общая слабость,...   \n2213  Головная боль, головокружение, слабость, сонли...   \n\n                    method_of_administration_and_dosage  \\\n0     Внутрь, независимо от приема пищи, в строго оп...   \n2                                           Перорально.   \n6     Внутрь, максимальная рекомендуемая кратность п...   \n8                                                   NaN   \n11    Наружно: гель или крем равномерно наносят тонк...   \n...                                                 ...   \n2209                                                NaN   \n2210                                                NaN   \n2211  Внутрь. Взрослым — по 0,025–0,05 г 1–4 раза в ...   \n2212  Внутрь — по 100–200 мг 1–2 раза в сутки в тече...   \n2213  Внутрь, для взрослых — 200–300 мг 1 раз в сутк...   \n\n                                                 smiles  \n0         Nc1nc(NC2CC2)c3ncn([C@@H]4C[C@H](CO)C=C4)c3n1  \n2     C[C@]12CC[C@H](O)CC1=CC[C@@H]3[C@@H]2CC[C@@]4(...  \n6     COc1ccc(CNc2nc(ncc2C(=O)NCc3ncccn3)N4CCC[C@H]4...  \n8                           COc1ccc2cccc(CCNC(C)=O)c2c1  \n11    COc1ccc(cc1C23CC4CC(CC(C4)C2)C3)c5ccc6cc(ccc6c...  \n...                                                 ...  \n2209                    CC(COc1ccccc1Cc2ccccc2)N3CCCCC3  \n2210           [H+].[Cl-].NC(CO)C(=O)NNCc1ccc(O)c(O)c1O  \n2211  Cc1ncc(CN(C=O)C(/C)=C(/CCO[P](O)(O)=O)SC(=O)c2...  \n2212                      CN(C)CCCOC1(CCCCCC1)Cc2ccccc2  \n2213  [H+].O.[Cl-].CC(C)COCC(CN(Cc1ccccc1)c2ccccc2)N...  \n\n[1874 rows x 16 columns]",
      "text/html": "<div>\n<style scoped>\n    .dataframe tbody tr th:only-of-type {\n        vertical-align: middle;\n    }\n\n    .dataframe tbody tr th {\n        vertical-align: top;\n    }\n\n    .dataframe thead th {\n        text-align: right;\n    }\n</style>\n<table border=\"1\" class=\"dataframe\">\n  <thead>\n    <tr style=\"text-align: right;\">\n      <th></th>\n      <th>index</th>\n      <th>name_ru</th>\n      <th>name_en</th>\n      <th>name_lat</th>\n      <th>name_chem</th>\n      <th>brutto_formula</th>\n      <th>cas</th>\n      <th>farm_action</th>\n      <th>description</th>\n      <th>farmacy</th>\n      <th>use</th>\n      <th>contraindication</th>\n      <th>restrictions</th>\n      <th>side_effects</th>\n      <th>method_of_administration_and_dosage</th>\n      <th>smiles</th>\n    </tr>\n  </thead>\n  <tbody>\n    <tr>\n      <th>0</th>\n      <td>0</td>\n      <td>Абакавир</td>\n      <td>Abacavir</td>\n      <td>Abacavirum (род. Abacaviri)</td>\n      <td>(1S,4R)-4-[2-Амино-6-(циклопропиламино)-9H-пур...</td>\n      <td>C14H18N6O</td>\n      <td>136470-78-5</td>\n      <td>Характеристика</td>\n      <td>Синтетический карбоциклический нуклеозидный ан...</td>\n      <td>Ингибирует обратную транскриптазу ВИЧ−1 и ВИЧ−...</td>\n      <td>ВИЧ-инфекция (комбинированная терапия).</td>\n      <td>Гиперчувствительность.</td>\n      <td>Заболевания печени, ранний грудной возраст (до...</td>\n      <td>Реакции гиперчувствительности замедленного тип...</td>\n      <td>Внутрь, независимо от приема пищи, в строго оп...</td>\n      <td>Nc1nc(NC2CC2)c3ncn([C@@H]4C[C@H](CO)C=C4)c3n1</td>\n    </tr>\n    <tr>\n      <th>2</th>\n      <td>6</td>\n      <td>Абиратерон</td>\n      <td>Abiraterone</td>\n      <td>Abirateronum (род. Abirateroni)</td>\n      <td>(3β)-17-(Пиридин-3-ил)андроста-5,16-диен-3-ол ...</td>\n      <td>C24H31NO</td>\n      <td>154229-19-3</td>\n      <td>Характеристика</td>\n      <td>Абиратерон является ингибитором CYP17 (17α-гид...</td>\n      <td>Механизм действия</td>\n      <td>Абиратерон показан в сочетании с преднизоном д...</td>\n      <td>Нет.</td>\n      <td>NaN</td>\n      <td>Следующие побочные действия более подробно опи...</td>\n      <td>Перорально.</td>\n      <td>C[C@]12CC[C@H](O)CC1=CC[C@@H]3[C@@H]2CC[C@@]4(...</td>\n    </tr>\n    <tr>\n      <th>6</th>\n      <td>10</td>\n      <td>Аванафил</td>\n      <td>Avanafil</td>\n      <td>Avanafilum (род. Avanafili)</td>\n      <td>4-[(3-хлоро-4-метоксифенил)метиламино]-2-[(2S)...</td>\n      <td>C23H26ClN7O3</td>\n      <td>330784-47-9</td>\n      <td>Фармакология</td>\n      <td>NaN</td>\n      <td>Фармакодинамика</td>\n      <td>Лечение эректильной дисфункции у взрослых мужчин.</td>\n      <td>Повышенная чувствительность к аванафилу; однов...</td>\n      <td>Обструкциея оттока крови из левого желудочка (...</td>\n      <td>Профиль безопасности</td>\n      <td>Внутрь, максимальная рекомендуемая кратность п...</td>\n      <td>COc1ccc(CNc2nc(ncc2C(=O)NCc3ncccn3)N4CCC[C@H]4...</td>\n    </tr>\n    <tr>\n      <th>8</th>\n      <td>16</td>\n      <td>Агомелатин</td>\n      <td>Agomelatine</td>\n      <td>Agomelatinum (род. Agomelatini)</td>\n      <td>N-[2-(7-Метоксинафталин-1-ил)этил]ацетамид</td>\n      <td>C15H17NO2</td>\n      <td>138112-76-2</td>\n      <td>NaN</td>\n      <td>NaN</td>\n      <td>NaN</td>\n      <td>NaN</td>\n      <td>NaN</td>\n      <td>NaN</td>\n      <td>NaN</td>\n      <td>NaN</td>\n      <td>COc1ccc2cccc(CCNC(C)=O)c2c1</td>\n    </tr>\n    <tr>\n      <th>11</th>\n      <td>20</td>\n      <td>Адапален</td>\n      <td>Adapalene</td>\n      <td>Adapalenum (род. Adapaleni)</td>\n      <td>6-(4-Метокси-3-трицикло[3.3.1.1(3',7)]дец-1-ил...</td>\n      <td>C28H28O3</td>\n      <td>106685-40-9</td>\n      <td>Характеристика</td>\n      <td>Синтетический аналог ретиноевой кислоты, произ...</td>\n      <td>Адапален — химически стабильное, ретиноидоподо...</td>\n      <td>Обыкновенные (юношеские) угри (acne vulgaris).</td>\n      <td>Гиперчувствительность.</td>\n      <td>Себорейный дерматит, экзема, детский возраст (...</td>\n      <td>Крем 0,1%</td>\n      <td>Наружно: гель или крем равномерно наносят тонк...</td>\n      <td>COc1ccc(cc1C23CC4CC(CC(C4)C2)C3)c5ccc6cc(ccc6c...</td>\n    </tr>\n    <tr>\n      <th>...</th>\n      <td>...</td>\n      <td>...</td>\n      <td>...</td>\n      <td>...</td>\n      <td>...</td>\n      <td>...</td>\n      <td>...</td>\n      <td>...</td>\n      <td>...</td>\n      <td>...</td>\n      <td>...</td>\n      <td>...</td>\n      <td>...</td>\n      <td>...</td>\n      <td>...</td>\n      <td>...</td>\n    </tr>\n    <tr>\n      <th>2209</th>\n      <td>4239</td>\n      <td>Бенпроперин</td>\n      <td>Benproperine</td>\n      <td>Benproperinum (род. Benproperini)</td>\n      <td>1-[1-Метил-2-[2-(фенилметил)фенокси]этил]пипер...</td>\n      <td>C21H27NO</td>\n      <td>2156-27-6</td>\n      <td>NaN</td>\n      <td>NaN</td>\n      <td>NaN</td>\n      <td>NaN</td>\n      <td>NaN</td>\n      <td>NaN</td>\n      <td>NaN</td>\n      <td>NaN</td>\n      <td>CC(COc1ccccc1Cc2ccccc2)N3CCCCC3</td>\n    </tr>\n    <tr>\n      <th>2210</th>\n      <td>4241</td>\n      <td>Бенсеразид</td>\n      <td>Benserazide</td>\n      <td>Benserazidum (род. Benserazidi)</td>\n      <td>2-[(2,3,4-Тригидроксифенил)метил]гидразид D,L-...</td>\n      <td>C10H15N3O5</td>\n      <td>14919-77-8</td>\n      <td>NaN</td>\n      <td>NaN</td>\n      <td>NaN</td>\n      <td>NaN</td>\n      <td>NaN</td>\n      <td>NaN</td>\n      <td>NaN</td>\n      <td>NaN</td>\n      <td>[H+].[Cl-].NC(CO)C(=O)NNCc1ccc(O)c(O)c1O</td>\n    </tr>\n    <tr>\n      <th>2211</th>\n      <td>4242</td>\n      <td>Бенфотиамин</td>\n      <td>Benfotiamine</td>\n      <td>Benphothiaminum (род. Benphothiamini)</td>\n      <td>S-[2-[[(4-Амино-2-метил-5-пиримидинил)метил]фо...</td>\n      <td>C19H23N4O6PS</td>\n      <td>22457-89-2</td>\n      <td>Характеристика</td>\n      <td>Белый кристаллический порошок с характерным за...</td>\n      <td>Восполняет дефицит витамина B1, нормализует об...</td>\n      <td>Гипо- и авитаминоз B1, атеросклероз, ИБС, ревм...</td>\n      <td>Гиперчувствительность.</td>\n      <td>NaN</td>\n      <td>NaN</td>\n      <td>Внутрь. Взрослым — по 0,025–0,05 г 1–4 раза в ...</td>\n      <td>Cc1ncc(CN(C=O)C(/C)=C(/CCO[P](O)(O)=O)SC(=O)c2...</td>\n    </tr>\n    <tr>\n      <th>2212</th>\n      <td>4245</td>\n      <td>Бенциклан</td>\n      <td>Bencyclane</td>\n      <td>Bencyclanum (род. Bencyclani)</td>\n      <td>N,N-Диметил-3-[[1-(фенилметил)циклогептил]окси...</td>\n      <td>C19H31NO</td>\n      <td>2179-37-5</td>\n      <td>Характеристика</td>\n      <td>Бенциклана фумарат — белое кристаллическое вещ...</td>\n      <td>Снижает тонус и двигательную активность гладки...</td>\n      <td>Нарушения мозгового кровообращения, церебровас...</td>\n      <td>Гиперчувствительность, почечная недостаточност...</td>\n      <td>NaN</td>\n      <td>Головокружение, головная боль, общая слабость,...</td>\n      <td>Внутрь — по 100–200 мг 1–2 раза в сутки в тече...</td>\n      <td>CN(C)CCCOC1(CCCCCC1)Cc2ccccc2</td>\n    </tr>\n    <tr>\n      <th>2213</th>\n      <td>4246</td>\n      <td>Бепридил</td>\n      <td>Bepridil</td>\n      <td>Bepridilum (род. Bepridili)</td>\n      <td>бета-[(2-Метилпропокси)метил]-N-фенил-N-(фенил...</td>\n      <td>C24H34N20</td>\n      <td>64706-54-3</td>\n      <td>Характеристика</td>\n      <td>Белый или бесцветный кристаллический порошок. ...</td>\n      <td>Блокирует кальциевые каналы, нарушая ток входя...</td>\n      <td>Стенокардия напряжения, вазоспастическая стено...</td>\n      <td>Гиперчувствительность, аритмии, AV блокада, си...</td>\n      <td>Беременность (нет сведений о применении), груд...</td>\n      <td>Головная боль, головокружение, слабость, сонли...</td>\n      <td>Внутрь, для взрослых — 200–300 мг 1 раз в сутк...</td>\n      <td>[H+].O.[Cl-].CC(C)COCC(CN(Cc1ccccc1)c2ccccc2)N...</td>\n    </tr>\n  </tbody>\n</table>\n<p>1874 rows × 16 columns</p>\n</div>"
     },
     "metadata": {}
    }
   ]
  },
  {
   "cell_type": "code",
   "source": [
    "from sklearn.metrics.pairwise import cosine_distances"
   ],
   "metadata": {
    "execution": {
     "iopub.status.busy": "2024-05-11T13:12:12.239688Z",
     "iopub.execute_input": "2024-05-11T13:12:12.240072Z",
     "iopub.status.idle": "2024-05-11T13:12:12.759497Z",
     "shell.execute_reply.started": "2024-05-11T13:12:12.240042Z",
     "shell.execute_reply": "2024-05-11T13:12:12.758643Z"
    },
    "trusted": true
   },
   "execution_count": 53,
   "outputs": []
  },
  {
   "cell_type": "code",
   "source": [
    "tqdm.pandas()"
   ],
   "metadata": {
    "execution": {
     "iopub.status.busy": "2024-05-11T13:12:12.816058Z",
     "iopub.execute_input": "2024-05-11T13:12:12.816485Z",
     "iopub.status.idle": "2024-05-11T13:12:12.821557Z",
     "shell.execute_reply.started": "2024-05-11T13:12:12.816455Z",
     "shell.execute_reply": "2024-05-11T13:12:12.820660Z"
    },
    "trusted": true
   },
   "execution_count": 54,
   "outputs": []
  },
  {
   "cell_type": "code",
   "source": [
    "df = df.reset_index()\n",
    "df"
   ],
   "metadata": {
    "execution": {
     "iopub.status.busy": "2024-05-11T13:12:14.136591Z",
     "iopub.execute_input": "2024-05-11T13:12:14.137451Z",
     "iopub.status.idle": "2024-05-11T13:12:14.161002Z",
     "shell.execute_reply.started": "2024-05-11T13:12:14.137416Z",
     "shell.execute_reply": "2024-05-11T13:12:14.160101Z"
    },
    "trusted": true
   },
   "execution_count": 55,
   "outputs": [
    {
     "execution_count": 55,
     "output_type": "execute_result",
     "data": {
      "text/plain": "      level_0  index      name_ru       name_en  \\\n0           0      0     Абакавир      Abacavir   \n1           2      6   Абиратерон   Abiraterone   \n2           6     10     Аванафил      Avanafil   \n3           8     16   Агомелатин   Agomelatine   \n4          11     20     Адапален     Adapalene   \n...       ...    ...          ...           ...   \n1869     2209   4239  Бенпроперин  Benproperine   \n1870     2210   4241   Бенсеразид   Benserazide   \n1871     2211   4242  Бенфотиамин  Benfotiamine   \n1872     2212   4245    Бенциклан    Bencyclane   \n1873     2213   4246     Бепридил      Bepridil   \n\n                                   name_lat  \\\n0               Abacavirum (род. Abacaviri)   \n1           Abirateronum (род. Abirateroni)   \n2               Avanafilum (род. Avanafili)   \n3           Agomelatinum (род. Agomelatini)   \n4               Adapalenum (род. Adapaleni)   \n...                                     ...   \n1869      Benproperinum (род. Benproperini)   \n1870        Benserazidum (род. Benserazidi)   \n1871  Benphothiaminum (род. Benphothiamini)   \n1872          Bencyclanum (род. Bencyclani)   \n1873            Bepridilum (род. Bepridili)   \n\n                                              name_chem brutto_formula  \\\n0     (1S,4R)-4-[2-Амино-6-(циклопропиламино)-9H-пур...      C14H18N6O   \n1     (3β)-17-(Пиридин-3-ил)андроста-5,16-диен-3-ол ...       C24H31NO   \n2     4-[(3-хлоро-4-метоксифенил)метиламино]-2-[(2S)...   C23H26ClN7O3   \n3            N-[2-(7-Метоксинафталин-1-ил)этил]ацетамид      C15H17NO2   \n4     6-(4-Метокси-3-трицикло[3.3.1.1(3',7)]дец-1-ил...       C28H28O3   \n...                                                 ...            ...   \n1869  1-[1-Метил-2-[2-(фенилметил)фенокси]этил]пипер...       C21H27NO   \n1870  2-[(2,3,4-Тригидроксифенил)метил]гидразид D,L-...     C10H15N3O5   \n1871  S-[2-[[(4-Амино-2-метил-5-пиримидинил)метил]фо...   C19H23N4O6PS   \n1872  N,N-Диметил-3-[[1-(фенилметил)циклогептил]окси...       C19H31NO   \n1873  бета-[(2-Метилпропокси)метил]-N-фенил-N-(фенил...      C24H34N20   \n\n              cas     farm_action  \\\n0     136470-78-5  Характеристика   \n1     154229-19-3  Характеристика   \n2     330784-47-9    Фармакология   \n3     138112-76-2             NaN   \n4     106685-40-9  Характеристика   \n...           ...             ...   \n1869    2156-27-6             NaN   \n1870   14919-77-8             NaN   \n1871   22457-89-2  Характеристика   \n1872    2179-37-5  Характеристика   \n1873   64706-54-3  Характеристика   \n\n                                            description  \\\n0     Синтетический карбоциклический нуклеозидный ан...   \n1     Абиратерон является ингибитором CYP17 (17α-гид...   \n2                                                   NaN   \n3                                                   NaN   \n4     Синтетический аналог ретиноевой кислоты, произ...   \n...                                                 ...   \n1869                                                NaN   \n1870                                                NaN   \n1871  Белый кристаллический порошок с характерным за...   \n1872  Бенциклана фумарат — белое кристаллическое вещ...   \n1873  Белый или бесцветный кристаллический порошок. ...   \n\n                                                farmacy  \\\n0     Ингибирует обратную транскриптазу ВИЧ−1 и ВИЧ−...   \n1                                     Механизм действия   \n2                                       Фармакодинамика   \n3                                                   NaN   \n4     Адапален — химически стабильное, ретиноидоподо...   \n...                                                 ...   \n1869                                                NaN   \n1870                                                NaN   \n1871  Восполняет дефицит витамина B1, нормализует об...   \n1872  Снижает тонус и двигательную активность гладки...   \n1873  Блокирует кальциевые каналы, нарушая ток входя...   \n\n                                                    use  \\\n0               ВИЧ-инфекция (комбинированная терапия).   \n1     Абиратерон показан в сочетании с преднизоном д...   \n2     Лечение эректильной дисфункции у взрослых мужчин.   \n3                                                   NaN   \n4        Обыкновенные (юношеские) угри (acne vulgaris).   \n...                                                 ...   \n1869                                                NaN   \n1870                                                NaN   \n1871  Гипо- и авитаминоз B1, атеросклероз, ИБС, ревм...   \n1872  Нарушения мозгового кровообращения, церебровас...   \n1873  Стенокардия напряжения, вазоспастическая стено...   \n\n                                       contraindication  \\\n0                                Гиперчувствительность.   \n1                                                  Нет.   \n2     Повышенная чувствительность к аванафилу; однов...   \n3                                                   NaN   \n4                                Гиперчувствительность.   \n...                                                 ...   \n1869                                                NaN   \n1870                                                NaN   \n1871                             Гиперчувствительность.   \n1872  Гиперчувствительность, почечная недостаточност...   \n1873  Гиперчувствительность, аритмии, AV блокада, си...   \n\n                                           restrictions  \\\n0     Заболевания печени, ранний грудной возраст (до...   \n1                                                   NaN   \n2     Обструкциея оттока крови из левого желудочка (...   \n3                                                   NaN   \n4     Себорейный дерматит, экзема, детский возраст (...   \n...                                                 ...   \n1869                                                NaN   \n1870                                                NaN   \n1871                                                NaN   \n1872                                                NaN   \n1873  Беременность (нет сведений о применении), груд...   \n\n                                           side_effects  \\\n0     Реакции гиперчувствительности замедленного тип...   \n1     Следующие побочные действия более подробно опи...   \n2                                  Профиль безопасности   \n3                                                   NaN   \n4                                             Крем 0,1%   \n...                                                 ...   \n1869                                                NaN   \n1870                                                NaN   \n1871                                                NaN   \n1872  Головокружение, головная боль, общая слабость,...   \n1873  Головная боль, головокружение, слабость, сонли...   \n\n                    method_of_administration_and_dosage  \\\n0     Внутрь, независимо от приема пищи, в строго оп...   \n1                                           Перорально.   \n2     Внутрь, максимальная рекомендуемая кратность п...   \n3                                                   NaN   \n4     Наружно: гель или крем равномерно наносят тонк...   \n...                                                 ...   \n1869                                                NaN   \n1870                                                NaN   \n1871  Внутрь. Взрослым — по 0,025–0,05 г 1–4 раза в ...   \n1872  Внутрь — по 100–200 мг 1–2 раза в сутки в тече...   \n1873  Внутрь, для взрослых — 200–300 мг 1 раз в сутк...   \n\n                                                 smiles  \n0         Nc1nc(NC2CC2)c3ncn([C@@H]4C[C@H](CO)C=C4)c3n1  \n1     C[C@]12CC[C@H](O)CC1=CC[C@@H]3[C@@H]2CC[C@@]4(...  \n2     COc1ccc(CNc2nc(ncc2C(=O)NCc3ncccn3)N4CCC[C@H]4...  \n3                           COc1ccc2cccc(CCNC(C)=O)c2c1  \n4     COc1ccc(cc1C23CC4CC(CC(C4)C2)C3)c5ccc6cc(ccc6c...  \n...                                                 ...  \n1869                    CC(COc1ccccc1Cc2ccccc2)N3CCCCC3  \n1870           [H+].[Cl-].NC(CO)C(=O)NNCc1ccc(O)c(O)c1O  \n1871  Cc1ncc(CN(C=O)C(/C)=C(/CCO[P](O)(O)=O)SC(=O)c2...  \n1872                      CN(C)CCCOC1(CCCCCC1)Cc2ccccc2  \n1873  [H+].O.[Cl-].CC(C)COCC(CN(Cc1ccccc1)c2ccccc2)N...  \n\n[1874 rows x 17 columns]",
      "text/html": "<div>\n<style scoped>\n    .dataframe tbody tr th:only-of-type {\n        vertical-align: middle;\n    }\n\n    .dataframe tbody tr th {\n        vertical-align: top;\n    }\n\n    .dataframe thead th {\n        text-align: right;\n    }\n</style>\n<table border=\"1\" class=\"dataframe\">\n  <thead>\n    <tr style=\"text-align: right;\">\n      <th></th>\n      <th>level_0</th>\n      <th>index</th>\n      <th>name_ru</th>\n      <th>name_en</th>\n      <th>name_lat</th>\n      <th>name_chem</th>\n      <th>brutto_formula</th>\n      <th>cas</th>\n      <th>farm_action</th>\n      <th>description</th>\n      <th>farmacy</th>\n      <th>use</th>\n      <th>contraindication</th>\n      <th>restrictions</th>\n      <th>side_effects</th>\n      <th>method_of_administration_and_dosage</th>\n      <th>smiles</th>\n    </tr>\n  </thead>\n  <tbody>\n    <tr>\n      <th>0</th>\n      <td>0</td>\n      <td>0</td>\n      <td>Абакавир</td>\n      <td>Abacavir</td>\n      <td>Abacavirum (род. Abacaviri)</td>\n      <td>(1S,4R)-4-[2-Амино-6-(циклопропиламино)-9H-пур...</td>\n      <td>C14H18N6O</td>\n      <td>136470-78-5</td>\n      <td>Характеристика</td>\n      <td>Синтетический карбоциклический нуклеозидный ан...</td>\n      <td>Ингибирует обратную транскриптазу ВИЧ−1 и ВИЧ−...</td>\n      <td>ВИЧ-инфекция (комбинированная терапия).</td>\n      <td>Гиперчувствительность.</td>\n      <td>Заболевания печени, ранний грудной возраст (до...</td>\n      <td>Реакции гиперчувствительности замедленного тип...</td>\n      <td>Внутрь, независимо от приема пищи, в строго оп...</td>\n      <td>Nc1nc(NC2CC2)c3ncn([C@@H]4C[C@H](CO)C=C4)c3n1</td>\n    </tr>\n    <tr>\n      <th>1</th>\n      <td>2</td>\n      <td>6</td>\n      <td>Абиратерон</td>\n      <td>Abiraterone</td>\n      <td>Abirateronum (род. Abirateroni)</td>\n      <td>(3β)-17-(Пиридин-3-ил)андроста-5,16-диен-3-ол ...</td>\n      <td>C24H31NO</td>\n      <td>154229-19-3</td>\n      <td>Характеристика</td>\n      <td>Абиратерон является ингибитором CYP17 (17α-гид...</td>\n      <td>Механизм действия</td>\n      <td>Абиратерон показан в сочетании с преднизоном д...</td>\n      <td>Нет.</td>\n      <td>NaN</td>\n      <td>Следующие побочные действия более подробно опи...</td>\n      <td>Перорально.</td>\n      <td>C[C@]12CC[C@H](O)CC1=CC[C@@H]3[C@@H]2CC[C@@]4(...</td>\n    </tr>\n    <tr>\n      <th>2</th>\n      <td>6</td>\n      <td>10</td>\n      <td>Аванафил</td>\n      <td>Avanafil</td>\n      <td>Avanafilum (род. Avanafili)</td>\n      <td>4-[(3-хлоро-4-метоксифенил)метиламино]-2-[(2S)...</td>\n      <td>C23H26ClN7O3</td>\n      <td>330784-47-9</td>\n      <td>Фармакология</td>\n      <td>NaN</td>\n      <td>Фармакодинамика</td>\n      <td>Лечение эректильной дисфункции у взрослых мужчин.</td>\n      <td>Повышенная чувствительность к аванафилу; однов...</td>\n      <td>Обструкциея оттока крови из левого желудочка (...</td>\n      <td>Профиль безопасности</td>\n      <td>Внутрь, максимальная рекомендуемая кратность п...</td>\n      <td>COc1ccc(CNc2nc(ncc2C(=O)NCc3ncccn3)N4CCC[C@H]4...</td>\n    </tr>\n    <tr>\n      <th>3</th>\n      <td>8</td>\n      <td>16</td>\n      <td>Агомелатин</td>\n      <td>Agomelatine</td>\n      <td>Agomelatinum (род. Agomelatini)</td>\n      <td>N-[2-(7-Метоксинафталин-1-ил)этил]ацетамид</td>\n      <td>C15H17NO2</td>\n      <td>138112-76-2</td>\n      <td>NaN</td>\n      <td>NaN</td>\n      <td>NaN</td>\n      <td>NaN</td>\n      <td>NaN</td>\n      <td>NaN</td>\n      <td>NaN</td>\n      <td>NaN</td>\n      <td>COc1ccc2cccc(CCNC(C)=O)c2c1</td>\n    </tr>\n    <tr>\n      <th>4</th>\n      <td>11</td>\n      <td>20</td>\n      <td>Адапален</td>\n      <td>Adapalene</td>\n      <td>Adapalenum (род. Adapaleni)</td>\n      <td>6-(4-Метокси-3-трицикло[3.3.1.1(3',7)]дец-1-ил...</td>\n      <td>C28H28O3</td>\n      <td>106685-40-9</td>\n      <td>Характеристика</td>\n      <td>Синтетический аналог ретиноевой кислоты, произ...</td>\n      <td>Адапален — химически стабильное, ретиноидоподо...</td>\n      <td>Обыкновенные (юношеские) угри (acne vulgaris).</td>\n      <td>Гиперчувствительность.</td>\n      <td>Себорейный дерматит, экзема, детский возраст (...</td>\n      <td>Крем 0,1%</td>\n      <td>Наружно: гель или крем равномерно наносят тонк...</td>\n      <td>COc1ccc(cc1C23CC4CC(CC(C4)C2)C3)c5ccc6cc(ccc6c...</td>\n    </tr>\n    <tr>\n      <th>...</th>\n      <td>...</td>\n      <td>...</td>\n      <td>...</td>\n      <td>...</td>\n      <td>...</td>\n      <td>...</td>\n      <td>...</td>\n      <td>...</td>\n      <td>...</td>\n      <td>...</td>\n      <td>...</td>\n      <td>...</td>\n      <td>...</td>\n      <td>...</td>\n      <td>...</td>\n      <td>...</td>\n      <td>...</td>\n    </tr>\n    <tr>\n      <th>1869</th>\n      <td>2209</td>\n      <td>4239</td>\n      <td>Бенпроперин</td>\n      <td>Benproperine</td>\n      <td>Benproperinum (род. Benproperini)</td>\n      <td>1-[1-Метил-2-[2-(фенилметил)фенокси]этил]пипер...</td>\n      <td>C21H27NO</td>\n      <td>2156-27-6</td>\n      <td>NaN</td>\n      <td>NaN</td>\n      <td>NaN</td>\n      <td>NaN</td>\n      <td>NaN</td>\n      <td>NaN</td>\n      <td>NaN</td>\n      <td>NaN</td>\n      <td>CC(COc1ccccc1Cc2ccccc2)N3CCCCC3</td>\n    </tr>\n    <tr>\n      <th>1870</th>\n      <td>2210</td>\n      <td>4241</td>\n      <td>Бенсеразид</td>\n      <td>Benserazide</td>\n      <td>Benserazidum (род. Benserazidi)</td>\n      <td>2-[(2,3,4-Тригидроксифенил)метил]гидразид D,L-...</td>\n      <td>C10H15N3O5</td>\n      <td>14919-77-8</td>\n      <td>NaN</td>\n      <td>NaN</td>\n      <td>NaN</td>\n      <td>NaN</td>\n      <td>NaN</td>\n      <td>NaN</td>\n      <td>NaN</td>\n      <td>NaN</td>\n      <td>[H+].[Cl-].NC(CO)C(=O)NNCc1ccc(O)c(O)c1O</td>\n    </tr>\n    <tr>\n      <th>1871</th>\n      <td>2211</td>\n      <td>4242</td>\n      <td>Бенфотиамин</td>\n      <td>Benfotiamine</td>\n      <td>Benphothiaminum (род. Benphothiamini)</td>\n      <td>S-[2-[[(4-Амино-2-метил-5-пиримидинил)метил]фо...</td>\n      <td>C19H23N4O6PS</td>\n      <td>22457-89-2</td>\n      <td>Характеристика</td>\n      <td>Белый кристаллический порошок с характерным за...</td>\n      <td>Восполняет дефицит витамина B1, нормализует об...</td>\n      <td>Гипо- и авитаминоз B1, атеросклероз, ИБС, ревм...</td>\n      <td>Гиперчувствительность.</td>\n      <td>NaN</td>\n      <td>NaN</td>\n      <td>Внутрь. Взрослым — по 0,025–0,05 г 1–4 раза в ...</td>\n      <td>Cc1ncc(CN(C=O)C(/C)=C(/CCO[P](O)(O)=O)SC(=O)c2...</td>\n    </tr>\n    <tr>\n      <th>1872</th>\n      <td>2212</td>\n      <td>4245</td>\n      <td>Бенциклан</td>\n      <td>Bencyclane</td>\n      <td>Bencyclanum (род. Bencyclani)</td>\n      <td>N,N-Диметил-3-[[1-(фенилметил)циклогептил]окси...</td>\n      <td>C19H31NO</td>\n      <td>2179-37-5</td>\n      <td>Характеристика</td>\n      <td>Бенциклана фумарат — белое кристаллическое вещ...</td>\n      <td>Снижает тонус и двигательную активность гладки...</td>\n      <td>Нарушения мозгового кровообращения, церебровас...</td>\n      <td>Гиперчувствительность, почечная недостаточност...</td>\n      <td>NaN</td>\n      <td>Головокружение, головная боль, общая слабость,...</td>\n      <td>Внутрь — по 100–200 мг 1–2 раза в сутки в тече...</td>\n      <td>CN(C)CCCOC1(CCCCCC1)Cc2ccccc2</td>\n    </tr>\n    <tr>\n      <th>1873</th>\n      <td>2213</td>\n      <td>4246</td>\n      <td>Бепридил</td>\n      <td>Bepridil</td>\n      <td>Bepridilum (род. Bepridili)</td>\n      <td>бета-[(2-Метилпропокси)метил]-N-фенил-N-(фенил...</td>\n      <td>C24H34N20</td>\n      <td>64706-54-3</td>\n      <td>Характеристика</td>\n      <td>Белый или бесцветный кристаллический порошок. ...</td>\n      <td>Блокирует кальциевые каналы, нарушая ток входя...</td>\n      <td>Стенокардия напряжения, вазоспастическая стено...</td>\n      <td>Гиперчувствительность, аритмии, AV блокада, си...</td>\n      <td>Беременность (нет сведений о применении), груд...</td>\n      <td>Головная боль, головокружение, слабость, сонли...</td>\n      <td>Внутрь, для взрослых — 200–300 мг 1 раз в сутк...</td>\n      <td>[H+].O.[Cl-].CC(C)COCC(CN(Cc1ccccc1)c2ccccc2)N...</td>\n    </tr>\n  </tbody>\n</table>\n<p>1874 rows × 17 columns</p>\n</div>"
     },
     "metadata": {}
    }
   ]
  },
  {
   "cell_type": "code",
   "source": [
    "df.drop(['level_0','index'],axis=1,inplace=True)"
   ],
   "metadata": {
    "execution": {
     "iopub.status.busy": "2024-05-11T13:12:16.817454Z",
     "iopub.execute_input": "2024-05-11T13:12:16.817837Z",
     "iopub.status.idle": "2024-05-11T13:12:16.824418Z",
     "shell.execute_reply.started": "2024-05-11T13:12:16.817810Z",
     "shell.execute_reply": "2024-05-11T13:12:16.823459Z"
    },
    "trusted": true
   },
   "execution_count": 56,
   "outputs": []
  },
  {
   "cell_type": "code",
   "source": [
    "index_compare = list(df['cas']=='70288-86-7').index(True)"
   ],
   "metadata": {
    "execution": {
     "iopub.status.busy": "2024-05-11T13:12:18.291598Z",
     "iopub.execute_input": "2024-05-11T13:12:18.291993Z",
     "iopub.status.idle": "2024-05-11T13:12:18.297766Z",
     "shell.execute_reply.started": "2024-05-11T13:12:18.291966Z",
     "shell.execute_reply": "2024-05-11T13:12:18.296718Z"
    },
    "trusted": true
   },
   "execution_count": 57,
   "outputs": []
  },
  {
   "cell_type": "code",
   "source": [
    "cos_lingad = np.array([emd[index_compare]])\n",
    "cos_lingad.shape"
   ],
   "metadata": {
    "execution": {
     "iopub.status.busy": "2024-05-11T13:12:21.675840Z",
     "iopub.execute_input": "2024-05-11T13:12:21.676211Z",
     "iopub.status.idle": "2024-05-11T13:12:21.682606Z",
     "shell.execute_reply.started": "2024-05-11T13:12:21.676183Z",
     "shell.execute_reply": "2024-05-11T13:12:21.681705Z"
    },
    "trusted": true
   },
   "execution_count": 58,
   "outputs": [
    {
     "execution_count": 58,
     "output_type": "execute_result",
     "data": {
      "text/plain": "(1, 768)"
     },
     "metadata": {}
    }
   ]
  },
  {
   "cell_type": "code",
   "source": [
    "type(emd)"
   ],
   "metadata": {
    "execution": {
     "iopub.status.busy": "2024-05-11T13:12:23.181178Z",
     "iopub.execute_input": "2024-05-11T13:12:23.182066Z",
     "iopub.status.idle": "2024-05-11T13:12:23.188240Z",
     "shell.execute_reply.started": "2024-05-11T13:12:23.182027Z",
     "shell.execute_reply": "2024-05-11T13:12:23.187106Z"
    },
    "trusted": true
   },
   "execution_count": 59,
   "outputs": [
    {
     "execution_count": 59,
     "output_type": "execute_result",
     "data": {
      "text/plain": "numpy.ndarray"
     },
     "metadata": {}
    }
   ]
  },
  {
   "cell_type": "code",
   "source": [
    "cosine_distances(cos_lingad,emd).shape"
   ],
   "metadata": {
    "execution": {
     "iopub.status.busy": "2024-05-11T13:12:24.427126Z",
     "iopub.execute_input": "2024-05-11T13:12:24.427859Z",
     "iopub.status.idle": "2024-05-11T13:12:24.441729Z",
     "shell.execute_reply.started": "2024-05-11T13:12:24.427829Z",
     "shell.execute_reply": "2024-05-11T13:12:24.440578Z"
    },
    "trusted": true
   },
   "execution_count": 60,
   "outputs": [
    {
     "execution_count": 60,
     "output_type": "execute_result",
     "data": {
      "text/plain": "(1, 1874)"
     },
     "metadata": {}
    }
   ]
  },
  {
   "cell_type": "code",
   "source": [
    "df[\"dist\"] = cosine_distances(cos_lingad,emd)[0]"
   ],
   "metadata": {
    "execution": {
     "iopub.status.busy": "2024-05-11T13:12:25.857471Z",
     "iopub.execute_input": "2024-05-11T13:12:25.858190Z",
     "iopub.status.idle": "2024-05-11T13:12:25.868007Z",
     "shell.execute_reply.started": "2024-05-11T13:12:25.858160Z",
     "shell.execute_reply": "2024-05-11T13:12:25.866679Z"
    },
    "trusted": true
   },
   "execution_count": 61,
   "outputs": []
  },
  {
   "cell_type": "code",
   "source": [
    "df"
   ],
   "metadata": {
    "execution": {
     "iopub.status.busy": "2024-05-11T13:12:34.913058Z",
     "iopub.execute_input": "2024-05-11T13:12:34.913729Z",
     "iopub.status.idle": "2024-05-11T13:12:34.937758Z",
     "shell.execute_reply.started": "2024-05-11T13:12:34.913699Z",
     "shell.execute_reply": "2024-05-11T13:12:34.936851Z"
    },
    "trusted": true
   },
   "execution_count": 62,
   "outputs": [
    {
     "execution_count": 62,
     "output_type": "execute_result",
     "data": {
      "text/plain": "          name_ru       name_en                               name_lat  \\\n0        Абакавир      Abacavir            Abacavirum (род. Abacaviri)   \n1      Абиратерон   Abiraterone        Abirateronum (род. Abirateroni)   \n2        Аванафил      Avanafil            Avanafilum (род. Avanafili)   \n3      Агомелатин   Agomelatine        Agomelatinum (род. Agomelatini)   \n4        Адапален     Adapalene            Adapalenum (род. Adapaleni)   \n...           ...           ...                                    ...   \n1869  Бенпроперин  Benproperine      Benproperinum (род. Benproperini)   \n1870   Бенсеразид   Benserazide        Benserazidum (род. Benserazidi)   \n1871  Бенфотиамин  Benfotiamine  Benphothiaminum (род. Benphothiamini)   \n1872    Бенциклан    Bencyclane          Bencyclanum (род. Bencyclani)   \n1873     Бепридил      Bepridil            Bepridilum (род. Bepridili)   \n\n                                              name_chem brutto_formula  \\\n0     (1S,4R)-4-[2-Амино-6-(циклопропиламино)-9H-пур...      C14H18N6O   \n1     (3β)-17-(Пиридин-3-ил)андроста-5,16-диен-3-ол ...       C24H31NO   \n2     4-[(3-хлоро-4-метоксифенил)метиламино]-2-[(2S)...   C23H26ClN7O3   \n3            N-[2-(7-Метоксинафталин-1-ил)этил]ацетамид      C15H17NO2   \n4     6-(4-Метокси-3-трицикло[3.3.1.1(3',7)]дец-1-ил...       C28H28O3   \n...                                                 ...            ...   \n1869  1-[1-Метил-2-[2-(фенилметил)фенокси]этил]пипер...       C21H27NO   \n1870  2-[(2,3,4-Тригидроксифенил)метил]гидразид D,L-...     C10H15N3O5   \n1871  S-[2-[[(4-Амино-2-метил-5-пиримидинил)метил]фо...   C19H23N4O6PS   \n1872  N,N-Диметил-3-[[1-(фенилметил)циклогептил]окси...       C19H31NO   \n1873  бета-[(2-Метилпропокси)метил]-N-фенил-N-(фенил...      C24H34N20   \n\n              cas     farm_action  \\\n0     136470-78-5  Характеристика   \n1     154229-19-3  Характеристика   \n2     330784-47-9    Фармакология   \n3     138112-76-2             NaN   \n4     106685-40-9  Характеристика   \n...           ...             ...   \n1869    2156-27-6             NaN   \n1870   14919-77-8             NaN   \n1871   22457-89-2  Характеристика   \n1872    2179-37-5  Характеристика   \n1873   64706-54-3  Характеристика   \n\n                                            description  \\\n0     Синтетический карбоциклический нуклеозидный ан...   \n1     Абиратерон является ингибитором CYP17 (17α-гид...   \n2                                                   NaN   \n3                                                   NaN   \n4     Синтетический аналог ретиноевой кислоты, произ...   \n...                                                 ...   \n1869                                                NaN   \n1870                                                NaN   \n1871  Белый кристаллический порошок с характерным за...   \n1872  Бенциклана фумарат — белое кристаллическое вещ...   \n1873  Белый или бесцветный кристаллический порошок. ...   \n\n                                                farmacy  \\\n0     Ингибирует обратную транскриптазу ВИЧ−1 и ВИЧ−...   \n1                                     Механизм действия   \n2                                       Фармакодинамика   \n3                                                   NaN   \n4     Адапален — химически стабильное, ретиноидоподо...   \n...                                                 ...   \n1869                                                NaN   \n1870                                                NaN   \n1871  Восполняет дефицит витамина B1, нормализует об...   \n1872  Снижает тонус и двигательную активность гладки...   \n1873  Блокирует кальциевые каналы, нарушая ток входя...   \n\n                                                    use  \\\n0               ВИЧ-инфекция (комбинированная терапия).   \n1     Абиратерон показан в сочетании с преднизоном д...   \n2     Лечение эректильной дисфункции у взрослых мужчин.   \n3                                                   NaN   \n4        Обыкновенные (юношеские) угри (acne vulgaris).   \n...                                                 ...   \n1869                                                NaN   \n1870                                                NaN   \n1871  Гипо- и авитаминоз B1, атеросклероз, ИБС, ревм...   \n1872  Нарушения мозгового кровообращения, церебровас...   \n1873  Стенокардия напряжения, вазоспастическая стено...   \n\n                                       contraindication  \\\n0                                Гиперчувствительность.   \n1                                                  Нет.   \n2     Повышенная чувствительность к аванафилу; однов...   \n3                                                   NaN   \n4                                Гиперчувствительность.   \n...                                                 ...   \n1869                                                NaN   \n1870                                                NaN   \n1871                             Гиперчувствительность.   \n1872  Гиперчувствительность, почечная недостаточност...   \n1873  Гиперчувствительность, аритмии, AV блокада, си...   \n\n                                           restrictions  \\\n0     Заболевания печени, ранний грудной возраст (до...   \n1                                                   NaN   \n2     Обструкциея оттока крови из левого желудочка (...   \n3                                                   NaN   \n4     Себорейный дерматит, экзема, детский возраст (...   \n...                                                 ...   \n1869                                                NaN   \n1870                                                NaN   \n1871                                                NaN   \n1872                                                NaN   \n1873  Беременность (нет сведений о применении), груд...   \n\n                                           side_effects  \\\n0     Реакции гиперчувствительности замедленного тип...   \n1     Следующие побочные действия более подробно опи...   \n2                                  Профиль безопасности   \n3                                                   NaN   \n4                                             Крем 0,1%   \n...                                                 ...   \n1869                                                NaN   \n1870                                                NaN   \n1871                                                NaN   \n1872  Головокружение, головная боль, общая слабость,...   \n1873  Головная боль, головокружение, слабость, сонли...   \n\n                    method_of_administration_and_dosage  \\\n0     Внутрь, независимо от приема пищи, в строго оп...   \n1                                           Перорально.   \n2     Внутрь, максимальная рекомендуемая кратность п...   \n3                                                   NaN   \n4     Наружно: гель или крем равномерно наносят тонк...   \n...                                                 ...   \n1869                                                NaN   \n1870                                                NaN   \n1871  Внутрь. Взрослым — по 0,025–0,05 г 1–4 раза в ...   \n1872  Внутрь — по 100–200 мг 1–2 раза в сутки в тече...   \n1873  Внутрь, для взрослых — 200–300 мг 1 раз в сутк...   \n\n                                                 smiles      dist  \n0         Nc1nc(NC2CC2)c3ncn([C@@H]4C[C@H](CO)C=C4)c3n1  0.887117  \n1     C[C@]12CC[C@H](O)CC1=CC[C@@H]3[C@@H]2CC[C@@]4(...  0.832268  \n2     COc1ccc(CNc2nc(ncc2C(=O)NCc3ncccn3)N4CCC[C@H]4...  0.895160  \n3                           COc1ccc2cccc(CCNC(C)=O)c2c1  0.953754  \n4     COc1ccc(cc1C23CC4CC(CC(C4)C2)C3)c5ccc6cc(ccc6c...  0.890651  \n...                                                 ...       ...  \n1869                    CC(COc1ccccc1Cc2ccccc2)N3CCCCC3  0.991449  \n1870           [H+].[Cl-].NC(CO)C(=O)NNCc1ccc(O)c(O)c1O  0.876199  \n1871  Cc1ncc(CN(C=O)C(/C)=C(/CCO[P](O)(O)=O)SC(=O)c2...  0.862265  \n1872                      CN(C)CCCOC1(CCCCCC1)Cc2ccccc2  0.972423  \n1873  [H+].O.[Cl-].CC(C)COCC(CN(Cc1ccccc1)c2ccccc2)N...  0.888989  \n\n[1874 rows x 16 columns]",
      "text/html": "<div>\n<style scoped>\n    .dataframe tbody tr th:only-of-type {\n        vertical-align: middle;\n    }\n\n    .dataframe tbody tr th {\n        vertical-align: top;\n    }\n\n    .dataframe thead th {\n        text-align: right;\n    }\n</style>\n<table border=\"1\" class=\"dataframe\">\n  <thead>\n    <tr style=\"text-align: right;\">\n      <th></th>\n      <th>name_ru</th>\n      <th>name_en</th>\n      <th>name_lat</th>\n      <th>name_chem</th>\n      <th>brutto_formula</th>\n      <th>cas</th>\n      <th>farm_action</th>\n      <th>description</th>\n      <th>farmacy</th>\n      <th>use</th>\n      <th>contraindication</th>\n      <th>restrictions</th>\n      <th>side_effects</th>\n      <th>method_of_administration_and_dosage</th>\n      <th>smiles</th>\n      <th>dist</th>\n    </tr>\n  </thead>\n  <tbody>\n    <tr>\n      <th>0</th>\n      <td>Абакавир</td>\n      <td>Abacavir</td>\n      <td>Abacavirum (род. Abacaviri)</td>\n      <td>(1S,4R)-4-[2-Амино-6-(циклопропиламино)-9H-пур...</td>\n      <td>C14H18N6O</td>\n      <td>136470-78-5</td>\n      <td>Характеристика</td>\n      <td>Синтетический карбоциклический нуклеозидный ан...</td>\n      <td>Ингибирует обратную транскриптазу ВИЧ−1 и ВИЧ−...</td>\n      <td>ВИЧ-инфекция (комбинированная терапия).</td>\n      <td>Гиперчувствительность.</td>\n      <td>Заболевания печени, ранний грудной возраст (до...</td>\n      <td>Реакции гиперчувствительности замедленного тип...</td>\n      <td>Внутрь, независимо от приема пищи, в строго оп...</td>\n      <td>Nc1nc(NC2CC2)c3ncn([C@@H]4C[C@H](CO)C=C4)c3n1</td>\n      <td>0.887117</td>\n    </tr>\n    <tr>\n      <th>1</th>\n      <td>Абиратерон</td>\n      <td>Abiraterone</td>\n      <td>Abirateronum (род. Abirateroni)</td>\n      <td>(3β)-17-(Пиридин-3-ил)андроста-5,16-диен-3-ол ...</td>\n      <td>C24H31NO</td>\n      <td>154229-19-3</td>\n      <td>Характеристика</td>\n      <td>Абиратерон является ингибитором CYP17 (17α-гид...</td>\n      <td>Механизм действия</td>\n      <td>Абиратерон показан в сочетании с преднизоном д...</td>\n      <td>Нет.</td>\n      <td>NaN</td>\n      <td>Следующие побочные действия более подробно опи...</td>\n      <td>Перорально.</td>\n      <td>C[C@]12CC[C@H](O)CC1=CC[C@@H]3[C@@H]2CC[C@@]4(...</td>\n      <td>0.832268</td>\n    </tr>\n    <tr>\n      <th>2</th>\n      <td>Аванафил</td>\n      <td>Avanafil</td>\n      <td>Avanafilum (род. Avanafili)</td>\n      <td>4-[(3-хлоро-4-метоксифенил)метиламино]-2-[(2S)...</td>\n      <td>C23H26ClN7O3</td>\n      <td>330784-47-9</td>\n      <td>Фармакология</td>\n      <td>NaN</td>\n      <td>Фармакодинамика</td>\n      <td>Лечение эректильной дисфункции у взрослых мужчин.</td>\n      <td>Повышенная чувствительность к аванафилу; однов...</td>\n      <td>Обструкциея оттока крови из левого желудочка (...</td>\n      <td>Профиль безопасности</td>\n      <td>Внутрь, максимальная рекомендуемая кратность п...</td>\n      <td>COc1ccc(CNc2nc(ncc2C(=O)NCc3ncccn3)N4CCC[C@H]4...</td>\n      <td>0.895160</td>\n    </tr>\n    <tr>\n      <th>3</th>\n      <td>Агомелатин</td>\n      <td>Agomelatine</td>\n      <td>Agomelatinum (род. Agomelatini)</td>\n      <td>N-[2-(7-Метоксинафталин-1-ил)этил]ацетамид</td>\n      <td>C15H17NO2</td>\n      <td>138112-76-2</td>\n      <td>NaN</td>\n      <td>NaN</td>\n      <td>NaN</td>\n      <td>NaN</td>\n      <td>NaN</td>\n      <td>NaN</td>\n      <td>NaN</td>\n      <td>NaN</td>\n      <td>COc1ccc2cccc(CCNC(C)=O)c2c1</td>\n      <td>0.953754</td>\n    </tr>\n    <tr>\n      <th>4</th>\n      <td>Адапален</td>\n      <td>Adapalene</td>\n      <td>Adapalenum (род. Adapaleni)</td>\n      <td>6-(4-Метокси-3-трицикло[3.3.1.1(3',7)]дец-1-ил...</td>\n      <td>C28H28O3</td>\n      <td>106685-40-9</td>\n      <td>Характеристика</td>\n      <td>Синтетический аналог ретиноевой кислоты, произ...</td>\n      <td>Адапален — химически стабильное, ретиноидоподо...</td>\n      <td>Обыкновенные (юношеские) угри (acne vulgaris).</td>\n      <td>Гиперчувствительность.</td>\n      <td>Себорейный дерматит, экзема, детский возраст (...</td>\n      <td>Крем 0,1%</td>\n      <td>Наружно: гель или крем равномерно наносят тонк...</td>\n      <td>COc1ccc(cc1C23CC4CC(CC(C4)C2)C3)c5ccc6cc(ccc6c...</td>\n      <td>0.890651</td>\n    </tr>\n    <tr>\n      <th>...</th>\n      <td>...</td>\n      <td>...</td>\n      <td>...</td>\n      <td>...</td>\n      <td>...</td>\n      <td>...</td>\n      <td>...</td>\n      <td>...</td>\n      <td>...</td>\n      <td>...</td>\n      <td>...</td>\n      <td>...</td>\n      <td>...</td>\n      <td>...</td>\n      <td>...</td>\n      <td>...</td>\n    </tr>\n    <tr>\n      <th>1869</th>\n      <td>Бенпроперин</td>\n      <td>Benproperine</td>\n      <td>Benproperinum (род. Benproperini)</td>\n      <td>1-[1-Метил-2-[2-(фенилметил)фенокси]этил]пипер...</td>\n      <td>C21H27NO</td>\n      <td>2156-27-6</td>\n      <td>NaN</td>\n      <td>NaN</td>\n      <td>NaN</td>\n      <td>NaN</td>\n      <td>NaN</td>\n      <td>NaN</td>\n      <td>NaN</td>\n      <td>NaN</td>\n      <td>CC(COc1ccccc1Cc2ccccc2)N3CCCCC3</td>\n      <td>0.991449</td>\n    </tr>\n    <tr>\n      <th>1870</th>\n      <td>Бенсеразид</td>\n      <td>Benserazide</td>\n      <td>Benserazidum (род. Benserazidi)</td>\n      <td>2-[(2,3,4-Тригидроксифенил)метил]гидразид D,L-...</td>\n      <td>C10H15N3O5</td>\n      <td>14919-77-8</td>\n      <td>NaN</td>\n      <td>NaN</td>\n      <td>NaN</td>\n      <td>NaN</td>\n      <td>NaN</td>\n      <td>NaN</td>\n      <td>NaN</td>\n      <td>NaN</td>\n      <td>[H+].[Cl-].NC(CO)C(=O)NNCc1ccc(O)c(O)c1O</td>\n      <td>0.876199</td>\n    </tr>\n    <tr>\n      <th>1871</th>\n      <td>Бенфотиамин</td>\n      <td>Benfotiamine</td>\n      <td>Benphothiaminum (род. Benphothiamini)</td>\n      <td>S-[2-[[(4-Амино-2-метил-5-пиримидинил)метил]фо...</td>\n      <td>C19H23N4O6PS</td>\n      <td>22457-89-2</td>\n      <td>Характеристика</td>\n      <td>Белый кристаллический порошок с характерным за...</td>\n      <td>Восполняет дефицит витамина B1, нормализует об...</td>\n      <td>Гипо- и авитаминоз B1, атеросклероз, ИБС, ревм...</td>\n      <td>Гиперчувствительность.</td>\n      <td>NaN</td>\n      <td>NaN</td>\n      <td>Внутрь. Взрослым — по 0,025–0,05 г 1–4 раза в ...</td>\n      <td>Cc1ncc(CN(C=O)C(/C)=C(/CCO[P](O)(O)=O)SC(=O)c2...</td>\n      <td>0.862265</td>\n    </tr>\n    <tr>\n      <th>1872</th>\n      <td>Бенциклан</td>\n      <td>Bencyclane</td>\n      <td>Bencyclanum (род. Bencyclani)</td>\n      <td>N,N-Диметил-3-[[1-(фенилметил)циклогептил]окси...</td>\n      <td>C19H31NO</td>\n      <td>2179-37-5</td>\n      <td>Характеристика</td>\n      <td>Бенциклана фумарат — белое кристаллическое вещ...</td>\n      <td>Снижает тонус и двигательную активность гладки...</td>\n      <td>Нарушения мозгового кровообращения, церебровас...</td>\n      <td>Гиперчувствительность, почечная недостаточност...</td>\n      <td>NaN</td>\n      <td>Головокружение, головная боль, общая слабость,...</td>\n      <td>Внутрь — по 100–200 мг 1–2 раза в сутки в тече...</td>\n      <td>CN(C)CCCOC1(CCCCCC1)Cc2ccccc2</td>\n      <td>0.972423</td>\n    </tr>\n    <tr>\n      <th>1873</th>\n      <td>Бепридил</td>\n      <td>Bepridil</td>\n      <td>Bepridilum (род. Bepridili)</td>\n      <td>бета-[(2-Метилпропокси)метил]-N-фенил-N-(фенил...</td>\n      <td>C24H34N20</td>\n      <td>64706-54-3</td>\n      <td>Характеристика</td>\n      <td>Белый или бесцветный кристаллический порошок. ...</td>\n      <td>Блокирует кальциевые каналы, нарушая ток входя...</td>\n      <td>Стенокардия напряжения, вазоспастическая стено...</td>\n      <td>Гиперчувствительность, аритмии, AV блокада, си...</td>\n      <td>Беременность (нет сведений о применении), груд...</td>\n      <td>Головная боль, головокружение, слабость, сонли...</td>\n      <td>Внутрь, для взрослых — 200–300 мг 1 раз в сутк...</td>\n      <td>[H+].O.[Cl-].CC(C)COCC(CN(Cc1ccccc1)c2ccccc2)N...</td>\n      <td>0.888989</td>\n    </tr>\n  </tbody>\n</table>\n<p>1874 rows × 16 columns</p>\n</div>"
     },
     "metadata": {}
    }
   ]
  },
  {
   "cell_type": "code",
   "source": [
    "df_sort = df.sort_values(by=['dist'])"
   ],
   "metadata": {
    "execution": {
     "iopub.status.busy": "2024-05-11T13:12:46.609572Z",
     "iopub.execute_input": "2024-05-11T13:12:46.609949Z",
     "iopub.status.idle": "2024-05-11T13:12:46.620299Z",
     "shell.execute_reply.started": "2024-05-11T13:12:46.609913Z",
     "shell.execute_reply": "2024-05-11T13:12:46.619511Z"
    },
    "trusted": true
   },
   "execution_count": 63,
   "outputs": []
  },
  {
   "cell_type": "code",
   "source": [
    "df_sort"
   ],
   "metadata": {
    "execution": {
     "iopub.status.busy": "2024-05-11T13:12:48.427564Z",
     "iopub.execute_input": "2024-05-11T13:12:48.427906Z",
     "iopub.status.idle": "2024-05-11T13:12:48.451003Z",
     "shell.execute_reply.started": "2024-05-11T13:12:48.427881Z",
     "shell.execute_reply": "2024-05-11T13:12:48.450003Z"
    },
    "trusted": true
   },
   "execution_count": 64,
   "outputs": [
    {
     "execution_count": 64,
     "output_type": "execute_result",
     "data": {
      "text/plain": "               name_ru              name_en  \\\n481         Ивермектин           Ivermectin   \n1414             Эсцин               Aescin   \n1723         Эрготамин           Ergotamine   \n705        Тейкопланин          Teicoplanin   \n38    Алкурония хлорид  Alcuronium chloride   \n...                ...                  ...   \n1182       Пиразинамид         Pyrazinamide   \n488          Изониазид            Isoniazid   \n1869       Бенпроперин         Benproperine   \n1584      Хлоралгидрат      Chloral hydrate   \n1378        Бетагистин          Betahistine   \n\n                                           name_lat  \\\n481                 Ivermectinum (род. Ivermectini)   \n1414                        Aescinum (род. Aescini)   \n1723                  Ergotaminum (род. Ergotamini)   \n705               Teicoplaninum (род. Teicoplanini)   \n38    Alcuronii chloridum (род. Alcuronii chloridi)   \n...                                             ...   \n1182              Pyrazinamidum (род. Pyrazinamidi)   \n488                   Isoniazidum (род. Isoniazidi)   \n1869              Benproperinum (род. Benproperini)   \n1584       Chlorali hydras (род. Chlorali hydratis)   \n1378                Betahistinum (род. Betahistini)   \n\n                                              name_chem brutto_formula  \\\n481                                                 NaN      C48H74O14   \n1414  Тритерпеновый гликозид (сапонин) из плодов (се...      C55H86O24   \n1723                                                NaN     C33H35N5O5   \n705   Антибиотик, выделенный из культуры Actinoplane...            NaN   \n38    4,4'-Дидеметил-4,4'-ди-2-пропенилтоксиферин I ...  C44H50Cl2N4O2   \n...                                                 ...            ...   \n1182                                Пиразинкарбоксамид.        C5H5N3O   \n488                Гидразид 4-пиридинкарбоновой кислоты        C6H7N3O   \n1869  1-[1-Метил-2-[2-(фенилметил)фенокси]этил]пипер...       C21H27NO   \n1584                         2,2,2-Трихлор-1,1-этандиол      C2H3Cl3O2   \n1378                                                NaN        C8H12N2   \n\n             cas     farm_action  \\\n481   70288-86-7  Характеристика   \n1414  11072-93-8    Фармакология   \n1723    113-15-5             NaN   \n705   61036-62-2    Фармакология   \n38    15180-03-7  Характеристика   \n...          ...             ...   \n1182     98-96-4  Характеристика   \n488      54-85-3  Характеристика   \n1869   2156-27-6             NaN   \n1584    302-17-0  Характеристика   \n1378   5638-76-6  Характеристика   \n\n                                            description  \\\n481                           Относится к авермектинам.   \n1414                                                NaN   \n1723                                                NaN   \n705                                                 NaN   \n38    Синтетическое производное токсиферина, алкалои...   \n...                                                 ...   \n1182  Белый кристаллический порошок. Растворим в вод...   \n488   Противотуберкулезное средство. Гидразид изоник...   \n1869                                                NaN   \n1584  Бесцветные прозрачные кристаллы или мелкокрист...   \n1378  Бетагистин (в виде дигидрохлорида) представляе...   \n\n                                                farmacy  \\\n481                                     Фармакодинамика   \n1414  Препятствует активации лизосомальных ферментов...   \n1723                                                NaN   \n705   Образует комплекс с ацил-D-аланил-D-аланином м...   \n38    Механизм реализации эффекта — конкуренция с ац...   \n...                                                 ...   \n1182  Активен в отношении Mycobacterium tuberculosis...   \n488   Ингибирует ДНК-зависимую РНК-полимеразу и пода...   \n1869                                                NaN   \n1584  Угнетает ЦНС: в малых дозах ослабляет тормозны...   \n1378                Механизм действия и фармакодинамика   \n\n                                                    use  \\\n481   Воспалительные поражения кожи при розацеа (пап...   \n1414  Хроническая венозная недостаточность различног...   \n1723                                                NaN   \n705   Инфекции (в т.ч. у пациентов с повышенной чувс...   \n38    Миорелаксация при диагностических процедурах и...   \n...                                                 ...   \n1182              Туберкулез (комбинированная терапия).   \n488   Туберкулез (любой локализации, у взрослых и де...   \n1869                                                NaN   \n1584  Психическое возбуждение, спазмофилия, столбняк...   \n1378  Синдром Меньера, характеризующийся головокруже...   \n\n                                       contraindication  \\\n481   Повышенная чувствительность; беременность; пер...   \n1414  Гиперчувствительность, хроническая почечная не...   \n1723                                                NaN   \n705   Гиперчувствительность, кормление грудью (на вр...   \n38    Гиперчувствительность, боковой амиотрофический...   \n...                                                 ...   \n1182  Гиперчувствительность, тяжелые заболевания печ...   \n488   Гиперчувствительность, в т.ч. к этионамиду, пи...   \n1869                                                NaN   \n1584  Гиперчувствительность, злоупотребление алкогол...   \n1378  Повышенная чувствительность к бетагистину; язв...   \n\n                                           restrictions  \\\n481                           Нарушение функции печени.   \n1414  Склонность к тромбозам, возраст до 18 лет (опы...   \n1723                                                NaN   \n705                                                 NaN   \n38    Поздние сроки беременности, ацидоз и электроли...   \n...                                                 ...   \n1182  Нарушение функций печени, гиперурикемия, подаг...   \n488   Дозы выше 10 мг/кг/сут: беременность, кормлени...   \n1869                                                NaN   \n1584  Дети грудного и более старшего возраста (при н...   \n1378                                                NaN   \n\n                                           side_effects  \\\n481   Наиболее частые нежелательные реакции, такие к...   \n1414  Диспептические явления (в т.ч. тошнота), аллер...   \n1723                                                NaN   \n705   Со стороны нервной системы и органов чувств: г...   \n38    Гипотония, тахикардия, аритмия, остановка серд...   \n...                                                 ...   \n1182  Со стороны органов ЖКТ: тошнота, рвота, диарея...   \n488   Со стороны нервной системы и органов чувств: г...   \n1869                                                NaN   \n1584  Со стороны нервной системы и органов чувств: г...   \n1378  В плацебо-контролируемых клинических исследова...   \n\n                    method_of_administration_and_dosage  \\\n481   Наружно, только на лицо, 1 раз в сутки, курс л...   \n1414  Внутрь, наружно. Внутрь, после еды, запивая бо...   \n1723                                                NaN   \n705   В/в (болюсно или капельно), в/м. Начальная доз...   \n38    В/в. Для взрослых — начальная доза 0,25 мг/кг,...   \n...                                                 ...   \n1182  Внутрь. Взрослым — 1,5–2 г/сут (20–30 мг/кг/су...   \n488   Внутрь, в/м, в/в, внутрикавернозно, ингаляцион...   \n1869                                                NaN   \n1584  Внутрь или ректально, в клизмах, в разбавленно...   \n1378  Внутрь, режим дозирования подбирается индивиду...   \n\n                                                 smiles      dist  \n481   CCC(C)[C@H]1O[C@]2(CC[C@@H]1C)C[C@@H]3C[C@@H](...  0.000000  \n1414  C/C=C(/C)C(=O)O[C@H]1[C@H](OC(C)=O)[C@]2(CO)[C...  0.090330  \n1723  CN1C[C@@H](C=C2[C@H]1Cc3c[nH]c4cccc2c34)C(=O)N...  0.175711  \n705   CCCCCCCCCC(=O)N[C@@H]1[C@@H](O)[C@H](O)[C@@H](...  0.182432  \n38    [Cl-].[Cl-].OC\\C=C/1C[N+]2(CCC34[C@@H]2CC1C/5=...  0.193689  \n...                                                 ...       ...  \n1182                                     NC(=O)c1cnccn1  0.990009  \n488                                     NNC(=O)c1ccncc1  0.990424  \n1869                    CC(COc1ccccc1Cc2ccccc2)N3CCCCC3  0.991449  \n1584                                   OC(O)C(Cl)(Cl)Cl  0.992688  \n1378                                       CNCCc1ccccn1  0.998859  \n\n[1874 rows x 16 columns]",
      "text/html": "<div>\n<style scoped>\n    .dataframe tbody tr th:only-of-type {\n        vertical-align: middle;\n    }\n\n    .dataframe tbody tr th {\n        vertical-align: top;\n    }\n\n    .dataframe thead th {\n        text-align: right;\n    }\n</style>\n<table border=\"1\" class=\"dataframe\">\n  <thead>\n    <tr style=\"text-align: right;\">\n      <th></th>\n      <th>name_ru</th>\n      <th>name_en</th>\n      <th>name_lat</th>\n      <th>name_chem</th>\n      <th>brutto_formula</th>\n      <th>cas</th>\n      <th>farm_action</th>\n      <th>description</th>\n      <th>farmacy</th>\n      <th>use</th>\n      <th>contraindication</th>\n      <th>restrictions</th>\n      <th>side_effects</th>\n      <th>method_of_administration_and_dosage</th>\n      <th>smiles</th>\n      <th>dist</th>\n    </tr>\n  </thead>\n  <tbody>\n    <tr>\n      <th>481</th>\n      <td>Ивермектин</td>\n      <td>Ivermectin</td>\n      <td>Ivermectinum (род. Ivermectini)</td>\n      <td>NaN</td>\n      <td>C48H74O14</td>\n      <td>70288-86-7</td>\n      <td>Характеристика</td>\n      <td>Относится к авермектинам.</td>\n      <td>Фармакодинамика</td>\n      <td>Воспалительные поражения кожи при розацеа (пап...</td>\n      <td>Повышенная чувствительность; беременность; пер...</td>\n      <td>Нарушение функции печени.</td>\n      <td>Наиболее частые нежелательные реакции, такие к...</td>\n      <td>Наружно, только на лицо, 1 раз в сутки, курс л...</td>\n      <td>CCC(C)[C@H]1O[C@]2(CC[C@@H]1C)C[C@@H]3C[C@@H](...</td>\n      <td>0.000000</td>\n    </tr>\n    <tr>\n      <th>1414</th>\n      <td>Эсцин</td>\n      <td>Aescin</td>\n      <td>Aescinum (род. Aescini)</td>\n      <td>Тритерпеновый гликозид (сапонин) из плодов (се...</td>\n      <td>C55H86O24</td>\n      <td>11072-93-8</td>\n      <td>Фармакология</td>\n      <td>NaN</td>\n      <td>Препятствует активации лизосомальных ферментов...</td>\n      <td>Хроническая венозная недостаточность различног...</td>\n      <td>Гиперчувствительность, хроническая почечная не...</td>\n      <td>Склонность к тромбозам, возраст до 18 лет (опы...</td>\n      <td>Диспептические явления (в т.ч. тошнота), аллер...</td>\n      <td>Внутрь, наружно. Внутрь, после еды, запивая бо...</td>\n      <td>C/C=C(/C)C(=O)O[C@H]1[C@H](OC(C)=O)[C@]2(CO)[C...</td>\n      <td>0.090330</td>\n    </tr>\n    <tr>\n      <th>1723</th>\n      <td>Эрготамин</td>\n      <td>Ergotamine</td>\n      <td>Ergotaminum (род. Ergotamini)</td>\n      <td>NaN</td>\n      <td>C33H35N5O5</td>\n      <td>113-15-5</td>\n      <td>NaN</td>\n      <td>NaN</td>\n      <td>NaN</td>\n      <td>NaN</td>\n      <td>NaN</td>\n      <td>NaN</td>\n      <td>NaN</td>\n      <td>NaN</td>\n      <td>CN1C[C@@H](C=C2[C@H]1Cc3c[nH]c4cccc2c34)C(=O)N...</td>\n      <td>0.175711</td>\n    </tr>\n    <tr>\n      <th>705</th>\n      <td>Тейкопланин</td>\n      <td>Teicoplanin</td>\n      <td>Teicoplaninum (род. Teicoplanini)</td>\n      <td>Антибиотик, выделенный из культуры Actinoplane...</td>\n      <td>NaN</td>\n      <td>61036-62-2</td>\n      <td>Фармакология</td>\n      <td>NaN</td>\n      <td>Образует комплекс с ацил-D-аланил-D-аланином м...</td>\n      <td>Инфекции (в т.ч. у пациентов с повышенной чувс...</td>\n      <td>Гиперчувствительность, кормление грудью (на вр...</td>\n      <td>NaN</td>\n      <td>Со стороны нервной системы и органов чувств: г...</td>\n      <td>В/в (болюсно или капельно), в/м. Начальная доз...</td>\n      <td>CCCCCCCCCC(=O)N[C@@H]1[C@@H](O)[C@H](O)[C@@H](...</td>\n      <td>0.182432</td>\n    </tr>\n    <tr>\n      <th>38</th>\n      <td>Алкурония хлорид</td>\n      <td>Alcuronium chloride</td>\n      <td>Alcuronii chloridum (род. Alcuronii chloridi)</td>\n      <td>4,4'-Дидеметил-4,4'-ди-2-пропенилтоксиферин I ...</td>\n      <td>C44H50Cl2N4O2</td>\n      <td>15180-03-7</td>\n      <td>Характеристика</td>\n      <td>Синтетическое производное токсиферина, алкалои...</td>\n      <td>Механизм реализации эффекта — конкуренция с ац...</td>\n      <td>Миорелаксация при диагностических процедурах и...</td>\n      <td>Гиперчувствительность, боковой амиотрофический...</td>\n      <td>Поздние сроки беременности, ацидоз и электроли...</td>\n      <td>Гипотония, тахикардия, аритмия, остановка серд...</td>\n      <td>В/в. Для взрослых — начальная доза 0,25 мг/кг,...</td>\n      <td>[Cl-].[Cl-].OC\\C=C/1C[N+]2(CCC34[C@@H]2CC1C/5=...</td>\n      <td>0.193689</td>\n    </tr>\n    <tr>\n      <th>...</th>\n      <td>...</td>\n      <td>...</td>\n      <td>...</td>\n      <td>...</td>\n      <td>...</td>\n      <td>...</td>\n      <td>...</td>\n      <td>...</td>\n      <td>...</td>\n      <td>...</td>\n      <td>...</td>\n      <td>...</td>\n      <td>...</td>\n      <td>...</td>\n      <td>...</td>\n      <td>...</td>\n    </tr>\n    <tr>\n      <th>1182</th>\n      <td>Пиразинамид</td>\n      <td>Pyrazinamide</td>\n      <td>Pyrazinamidum (род. Pyrazinamidi)</td>\n      <td>Пиразинкарбоксамид.</td>\n      <td>C5H5N3O</td>\n      <td>98-96-4</td>\n      <td>Характеристика</td>\n      <td>Белый кристаллический порошок. Растворим в вод...</td>\n      <td>Активен в отношении Mycobacterium tuberculosis...</td>\n      <td>Туберкулез (комбинированная терапия).</td>\n      <td>Гиперчувствительность, тяжелые заболевания печ...</td>\n      <td>Нарушение функций печени, гиперурикемия, подаг...</td>\n      <td>Со стороны органов ЖКТ: тошнота, рвота, диарея...</td>\n      <td>Внутрь. Взрослым — 1,5–2 г/сут (20–30 мг/кг/су...</td>\n      <td>NC(=O)c1cnccn1</td>\n      <td>0.990009</td>\n    </tr>\n    <tr>\n      <th>488</th>\n      <td>Изониазид</td>\n      <td>Isoniazid</td>\n      <td>Isoniazidum (род. Isoniazidi)</td>\n      <td>Гидразид 4-пиридинкарбоновой кислоты</td>\n      <td>C6H7N3O</td>\n      <td>54-85-3</td>\n      <td>Характеристика</td>\n      <td>Противотуберкулезное средство. Гидразид изоник...</td>\n      <td>Ингибирует ДНК-зависимую РНК-полимеразу и пода...</td>\n      <td>Туберкулез (любой локализации, у взрослых и де...</td>\n      <td>Гиперчувствительность, в т.ч. к этионамиду, пи...</td>\n      <td>Дозы выше 10 мг/кг/сут: беременность, кормлени...</td>\n      <td>Со стороны нервной системы и органов чувств: г...</td>\n      <td>Внутрь, в/м, в/в, внутрикавернозно, ингаляцион...</td>\n      <td>NNC(=O)c1ccncc1</td>\n      <td>0.990424</td>\n    </tr>\n    <tr>\n      <th>1869</th>\n      <td>Бенпроперин</td>\n      <td>Benproperine</td>\n      <td>Benproperinum (род. Benproperini)</td>\n      <td>1-[1-Метил-2-[2-(фенилметил)фенокси]этил]пипер...</td>\n      <td>C21H27NO</td>\n      <td>2156-27-6</td>\n      <td>NaN</td>\n      <td>NaN</td>\n      <td>NaN</td>\n      <td>NaN</td>\n      <td>NaN</td>\n      <td>NaN</td>\n      <td>NaN</td>\n      <td>NaN</td>\n      <td>CC(COc1ccccc1Cc2ccccc2)N3CCCCC3</td>\n      <td>0.991449</td>\n    </tr>\n    <tr>\n      <th>1584</th>\n      <td>Хлоралгидрат</td>\n      <td>Chloral hydrate</td>\n      <td>Chlorali hydras (род. Chlorali hydratis)</td>\n      <td>2,2,2-Трихлор-1,1-этандиол</td>\n      <td>C2H3Cl3O2</td>\n      <td>302-17-0</td>\n      <td>Характеристика</td>\n      <td>Бесцветные прозрачные кристаллы или мелкокрист...</td>\n      <td>Угнетает ЦНС: в малых дозах ослабляет тормозны...</td>\n      <td>Психическое возбуждение, спазмофилия, столбняк...</td>\n      <td>Гиперчувствительность, злоупотребление алкогол...</td>\n      <td>Дети грудного и более старшего возраста (при н...</td>\n      <td>Со стороны нервной системы и органов чувств: г...</td>\n      <td>Внутрь или ректально, в клизмах, в разбавленно...</td>\n      <td>OC(O)C(Cl)(Cl)Cl</td>\n      <td>0.992688</td>\n    </tr>\n    <tr>\n      <th>1378</th>\n      <td>Бетагистин</td>\n      <td>Betahistine</td>\n      <td>Betahistinum (род. Betahistini)</td>\n      <td>NaN</td>\n      <td>C8H12N2</td>\n      <td>5638-76-6</td>\n      <td>Характеристика</td>\n      <td>Бетагистин (в виде дигидрохлорида) представляе...</td>\n      <td>Механизм действия и фармакодинамика</td>\n      <td>Синдром Меньера, характеризующийся головокруже...</td>\n      <td>Повышенная чувствительность к бетагистину; язв...</td>\n      <td>NaN</td>\n      <td>В плацебо-контролируемых клинических исследова...</td>\n      <td>Внутрь, режим дозирования подбирается индивиду...</td>\n      <td>CNCCc1ccccn1</td>\n      <td>0.998859</td>\n    </tr>\n  </tbody>\n</table>\n<p>1874 rows × 16 columns</p>\n</div>"
     },
     "metadata": {}
    }
   ]
  },
  {
   "cell_type": "code",
   "source": [
    "df_sort[['name_ru','dist']][:5]"
   ],
   "metadata": {
    "execution": {
     "iopub.status.busy": "2024-05-11T13:12:49.630923Z",
     "iopub.execute_input": "2024-05-11T13:12:49.631553Z",
     "iopub.status.idle": "2024-05-11T13:12:49.643461Z",
     "shell.execute_reply.started": "2024-05-11T13:12:49.631522Z",
     "shell.execute_reply": "2024-05-11T13:12:49.642455Z"
    },
    "trusted": true
   },
   "execution_count": 65,
   "outputs": [
    {
     "execution_count": 65,
     "output_type": "execute_result",
     "data": {
      "text/plain": "               name_ru      dist\n481         Ивермектин  0.000000\n1414             Эсцин  0.090330\n1723         Эрготамин  0.175711\n705        Тейкопланин  0.182432\n38    Алкурония хлорид  0.193689",
      "text/html": "<div>\n<style scoped>\n    .dataframe tbody tr th:only-of-type {\n        vertical-align: middle;\n    }\n\n    .dataframe tbody tr th {\n        vertical-align: top;\n    }\n\n    .dataframe thead th {\n        text-align: right;\n    }\n</style>\n<table border=\"1\" class=\"dataframe\">\n  <thead>\n    <tr style=\"text-align: right;\">\n      <th></th>\n      <th>name_ru</th>\n      <th>dist</th>\n    </tr>\n  </thead>\n  <tbody>\n    <tr>\n      <th>481</th>\n      <td>Ивермектин</td>\n      <td>0.000000</td>\n    </tr>\n    <tr>\n      <th>1414</th>\n      <td>Эсцин</td>\n      <td>0.090330</td>\n    </tr>\n    <tr>\n      <th>1723</th>\n      <td>Эрготамин</td>\n      <td>0.175711</td>\n    </tr>\n    <tr>\n      <th>705</th>\n      <td>Тейкопланин</td>\n      <td>0.182432</td>\n    </tr>\n    <tr>\n      <th>38</th>\n      <td>Алкурония хлорид</td>\n      <td>0.193689</td>\n    </tr>\n  </tbody>\n</table>\n</div>"
     },
     "metadata": {}
    }
   ]
  },
  {
   "cell_type": "code",
   "source": [
    "#индекс Танимото\n",
    "#лиганды \n",
    "#фрейм "
   ],
   "metadata": {
    "execution": {
     "iopub.status.busy": "2024-05-11T13:04:15.359818Z",
     "iopub.status.idle": "2024-05-11T13:04:15.360260Z",
     "shell.execute_reply.started": "2024-05-11T13:04:15.360025Z",
     "shell.execute_reply": "2024-05-11T13:04:15.360042Z"
    },
    "trusted": true
   },
   "execution_count": null,
   "outputs": []
  },
  {
   "cell_type": "code",
   "source": [
    "from rdkit import Chem\n",
    "from rdkit.Chem import rdFingerprintGenerator\n",
    "from rdkit import DataStructs\n",
    "\n",
    "rdkit_gen = rdFingerprintGenerator.GetRDKitFPGenerator(maxPath=7)\n",
    "\n",
    "molecule1_name = \"THC\"\n",
    "molecule1_smile = \"CCCCCc1cc(c2c(c1)OC([C@H]3[C@H]2C=C(CC3)C)(C)C)O\"\n",
    "\n",
    "molecule2_name = \"CBD\"\n",
    "molecule2_smile =  \"CCCCCc1cc(c2c(c1)OC([C@H]3[C@H]2C=C(CC3)C)(C)C)O\"\n",
    "\n",
    "def simple_tanimoto(name1, smiles1, name2, smiles2):\n",
    "    a = Chem.MolFromSmiles(smiles1)\n",
    "    b = Chem.MolFromSmiles(smiles2)\n",
    "    a2= rdkit_gen.GetFingerprint(a)\n",
    "    b2= rdkit_gen.GetFingerprint(b)\n",
    "\n",
    "    similarity = DataStructs.TanimotoSimilarity(a2, b2)\n",
    "    similarity = round(similarity,3)\n",
    "    print(f\"\\nTanimoto coefficient:\\n \"\n",
    "          f\"{name1} vs {name2} -> {similarity}\")\n",
    "    return\n",
    "\n",
    "\n",
    "simple_tanimoto(molecule1_name, molecule1_smile,\n",
    "            molecule2_name, molecule2_smile)"
   ],
   "metadata": {
    "execution": {
     "iopub.status.busy": "2024-05-11T13:28:01.981464Z",
     "iopub.execute_input": "2024-05-11T13:28:01.981849Z",
     "iopub.status.idle": "2024-05-11T13:28:01.997773Z",
     "shell.execute_reply.started": "2024-05-11T13:28:01.981818Z",
     "shell.execute_reply": "2024-05-11T13:28:01.996727Z"
    },
    "trusted": true
   },
   "execution_count": 78,
   "outputs": [
    {
     "name": "stdout",
     "text": "\nTanimoto coefficient:\n THC vs CBD -> 1.0\n",
     "output_type": "stream"
    }
   ]
  },
  {
   "cell_type": "code",
   "source": [
    "def struct_get(mol_smiles):\n",
    "    try:\n",
    "        ss = Chem.MolFromSmiles(mol_smiles)\n",
    "        ss= rdkit_gen.GetFingerprint(ss)\n",
    "        return ss\n",
    "    except:\n",
    "        return None\n",
    "df['finger'] = df['smiles'].progress_apply(struct_get)"
   ],
   "metadata": {
    "trusted": true
   },
   "execution_count": null,
   "outputs": []
  },
  {
   "cell_type": "code",
   "source": [
    "df['finger'].isna().sum()"
   ],
   "metadata": {
    "execution": {
     "iopub.status.busy": "2024-05-11T13:26:34.273277Z",
     "iopub.execute_input": "2024-05-11T13:26:34.273772Z",
     "iopub.status.idle": "2024-05-11T13:26:34.283315Z",
     "shell.execute_reply.started": "2024-05-11T13:26:34.273735Z",
     "shell.execute_reply": "2024-05-11T13:26:34.282156Z"
    },
    "trusted": true
   },
   "execution_count": 77,
   "outputs": [
    {
     "execution_count": 77,
     "output_type": "execute_result",
     "data": {
      "text/plain": "11"
     },
     "metadata": {}
    }
   ]
  },
  {
   "cell_type": "code",
   "source": [
    "df_test = pd.DataFrame({\n",
    "    \"name\": [\n",
    "        \"Меркамин (МЭА, цистеамин)\",\n",
    "        \"АЭТ\",\n",
    "        \"цистамин\",\n",
    "        \"Амифостин (этиол, WR-2721)\",\n",
    "        \"WR-1065\",\n",
    "        \"Мексамин\",\n",
    "        \"Серотонин (ССР)\",\n",
    "        \"Мелатонин (ССР)\",\n",
    "        \"Дифетур, Т-1023\",\n",
    "        \"Нафазолин\",\n",
    "        \"Индралин\",\n",
    "        \"Токоферола сукцинат\",\n",
    "        \"ү-токотриенол (GT3)\",\n",
    "        \"О-токотриенол (DT3)\",\n",
    "        \"PAC5\",\n",
    "        \"Апигенин\",\n",
    "        \"Бергенин\",\n",
    "        \"Хлорогеновая кислота\",\n",
    "        \"Конифериловый альдегид\",\n",
    "        \"Куркумин\",\n",
    "        \"Эпигаллокатехин-3-галлата\", \n",
    "        \"Феруловая кислота\",\n",
    "        \"Генистеин\",\n",
    "        \"Ресвератрол\",\n",
    "        \"Гесперидин\",\n",
    "        \"Ликопин\",\n",
    "#         \"N-ацетилтриптофан глюкозид (NATG)\",\n",
    "        \"Сезамол\",\n",
    "#         \"Псоралидин\",\n",
    "        \"Троксерутин\",\n",
    "        \"Ванилин\",\n",
    "        \"Зингерон\",\n",
    "        \"Зимозан А\"\n",
    "    ],\n",
    "    \"cas\": [\n",
    "        \"156-57-0\",\n",
    "        \"2235-90-7\",\n",
    "        \"51-85-4\",\n",
    "        \"20537-88-6\",\n",
    "        \"14653-77-1\",\n",
    "        \"66-83-1\",\n",
    "        \"50-67-9\",\n",
    "        \"73-31-4\",\n",
    "        \"21704-46-1\",\n",
    "        \"835-31-4\",\n",
    "        \"156799-03-0\",\n",
    "        \"14638-18-7\",\n",
    "        \"1721-51-3\",\n",
    "        \"58-95-7\",\n",
    "        \"58-58-2\",\n",
    "        \"520-36-5\",\n",
    "        \"477-90-7\",\n",
    "        \"327-97-9\",\n",
    "        \"458-36-6\",\n",
    "        \"458-37-7\",\n",
    "        \"989-51-5\",\n",
    "        \"1135-24-6\",\n",
    "        \"446-72-0\",\n",
    "        \"501-36-0\",\n",
    "        \"520-26-3\",\n",
    "        \"502-65-8\",\n",
    "        \"533-31-3\",\n",
    "        \"7085-55-4\",\n",
    "        \"121-33-5\",\n",
    "        \"122-48-5\",\n",
    "        \"58856-93-2\"\n",
    "        \n",
    "        \n",
    "        \n",
    "    ]\n",
    "})"
   ],
   "metadata": {
    "execution": {
     "iopub.status.busy": "2024-05-11T14:07:27.440214Z",
     "iopub.execute_input": "2024-05-11T14:07:27.441047Z",
     "iopub.status.idle": "2024-05-11T14:07:27.450033Z",
     "shell.execute_reply.started": "2024-05-11T14:07:27.441011Z",
     "shell.execute_reply": "2024-05-11T14:07:27.449029Z"
    },
    "trusted": true
   },
   "execution_count": 85,
   "outputs": []
  },
  {
   "cell_type": "code",
   "source": [
    "!pip install cirpy \n"
   ],
   "metadata": {
    "execution": {
     "iopub.status.busy": "2024-05-11T14:08:11.027993Z",
     "iopub.execute_input": "2024-05-11T14:08:11.028754Z",
     "iopub.status.idle": "2024-05-11T14:08:25.433605Z",
     "shell.execute_reply.started": "2024-05-11T14:08:11.028723Z",
     "shell.execute_reply": "2024-05-11T14:08:25.432620Z"
    },
    "trusted": true
   },
   "execution_count": 86,
   "outputs": [
    {
     "name": "stderr",
     "text": "huggingface/tokenizers: The current process just got forked, after parallelism has already been used. Disabling parallelism to avoid deadlocks...\nTo disable this warning, you can either:\n\t- Avoid using `tokenizers` before the fork if possible\n\t- Explicitly set the environment variable TOKENIZERS_PARALLELISM=(true | false)\n",
     "output_type": "stream"
    },
    {
     "name": "stdout",
     "text": "Collecting cirpy\n  Downloading CIRpy-1.0.2.tar.gz (20 kB)\n  Preparing metadata (setup.py) ... \u001B[?25ldone\n\u001B[?25hBuilding wheels for collected packages: cirpy\n  Building wheel for cirpy (setup.py) ... \u001B[?25ldone\n\u001B[?25h  Created wheel for cirpy: filename=CIRpy-1.0.2-py3-none-any.whl size=7262 sha256=6ad3115a6e15af339e783b0dadba703476c7de2ed304abd6eddb97ae219b9f67\n  Stored in directory: /root/.cache/pip/wheels/c7/35/2b/f5d2226974fb5b1e84d53eda475d8b33a38548a6b25e32c2c0\nSuccessfully built cirpy\nInstalling collected packages: cirpy\nSuccessfully installed cirpy-1.0.2\n",
     "output_type": "stream"
    }
   ]
  },
  {
   "cell_type": "code",
   "source": [
    "import cirpy\n",
    "def cirpy_cas_smiles(cas):\n",
    "    return cirpy.resolve(cas, 'smiles')"
   ],
   "metadata": {
    "execution": {
     "iopub.status.busy": "2024-05-11T14:09:40.090921Z",
     "iopub.execute_input": "2024-05-11T14:09:40.091787Z",
     "iopub.status.idle": "2024-05-11T14:09:40.140671Z",
     "shell.execute_reply.started": "2024-05-11T14:09:40.091755Z",
     "shell.execute_reply": "2024-05-11T14:09:40.139665Z"
    },
    "trusted": true
   },
   "execution_count": 88,
   "outputs": []
  },
  {
   "cell_type": "code",
   "source": [
    "df_test['smiles'] = df_test['cas'].apply(cirpy_cas_smiles)"
   ],
   "metadata": {
    "execution": {
     "iopub.status.busy": "2024-05-11T14:09:43.458340Z",
     "iopub.execute_input": "2024-05-11T14:09:43.459176Z",
     "iopub.status.idle": "2024-05-11T14:10:02.846802Z",
     "shell.execute_reply.started": "2024-05-11T14:09:43.459143Z",
     "shell.execute_reply": "2024-05-11T14:10:02.845909Z"
    },
    "trusted": true
   },
   "execution_count": 89,
   "outputs": []
  },
  {
   "cell_type": "code",
   "source": [
    "df_test['smiles'].isna().sum()"
   ],
   "metadata": {
    "execution": {
     "iopub.status.busy": "2024-05-11T14:10:17.660811Z",
     "iopub.execute_input": "2024-05-11T14:10:17.661672Z",
     "iopub.status.idle": "2024-05-11T14:10:17.668548Z",
     "shell.execute_reply.started": "2024-05-11T14:10:17.661637Z",
     "shell.execute_reply": "2024-05-11T14:10:17.667525Z"
    },
    "trusted": true
   },
   "execution_count": 90,
   "outputs": [
    {
     "execution_count": 90,
     "output_type": "execute_result",
     "data": {
      "text/plain": "2"
     },
     "metadata": {}
    }
   ]
  },
  {
   "cell_type": "code",
   "source": [
    "df_test = df_test.dropna()"
   ],
   "metadata": {
    "execution": {
     "iopub.status.busy": "2024-05-11T14:10:33.969487Z",
     "iopub.execute_input": "2024-05-11T14:10:33.969867Z",
     "iopub.status.idle": "2024-05-11T14:10:33.975829Z",
     "shell.execute_reply.started": "2024-05-11T14:10:33.969839Z",
     "shell.execute_reply": "2024-05-11T14:10:33.974873Z"
    },
    "trusted": true
   },
   "execution_count": 91,
   "outputs": []
  },
  {
   "cell_type": "code",
   "source": [
    "df_test['smiles'].isna().sum()"
   ],
   "metadata": {
    "execution": {
     "iopub.status.busy": "2024-05-11T14:10:37.826913Z",
     "iopub.execute_input": "2024-05-11T14:10:37.827435Z",
     "iopub.status.idle": "2024-05-11T14:10:37.834444Z",
     "shell.execute_reply.started": "2024-05-11T14:10:37.827406Z",
     "shell.execute_reply": "2024-05-11T14:10:37.833495Z"
    },
    "trusted": true
   },
   "execution_count": 92,
   "outputs": [
    {
     "execution_count": 92,
     "output_type": "execute_result",
     "data": {
      "text/plain": "0"
     },
     "metadata": {}
    }
   ]
  },
  {
   "cell_type": "code",
   "source": [
    " \n",
    "emb_test = embed_bert_cls(df_test['smiles'].tolist(),model,tokenizer)"
   ],
   "metadata": {
    "execution": {
     "iopub.status.busy": "2024-05-11T14:12:37.670986Z",
     "iopub.execute_input": "2024-05-11T14:12:37.671713Z",
     "iopub.status.idle": "2024-05-11T14:12:37.809957Z",
     "shell.execute_reply.started": "2024-05-11T14:12:37.671680Z",
     "shell.execute_reply": "2024-05-11T14:12:37.809169Z"
    },
    "trusted": true
   },
   "execution_count": 94,
   "outputs": []
  },
  {
   "cell_type": "code",
   "source": [
    "df_test[\"emb\"] = list(emb_test)"
   ],
   "metadata": {
    "execution": {
     "iopub.status.busy": "2024-05-11T14:13:19.783319Z",
     "iopub.execute_input": "2024-05-11T14:13:19.783949Z",
     "iopub.status.idle": "2024-05-11T14:13:19.788915Z",
     "shell.execute_reply.started": "2024-05-11T14:13:19.783915Z",
     "shell.execute_reply": "2024-05-11T14:13:19.787879Z"
    },
    "trusted": true
   },
   "execution_count": 98,
   "outputs": []
  },
  {
   "cell_type": "code",
   "source": [
    "df['embedding'] =  list(emd)"
   ],
   "metadata": {
    "execution": {
     "iopub.status.busy": "2024-05-11T14:16:21.214033Z",
     "iopub.execute_input": "2024-05-11T14:16:21.214508Z",
     "iopub.status.idle": "2024-05-11T14:16:21.220530Z",
     "shell.execute_reply.started": "2024-05-11T14:16:21.214470Z",
     "shell.execute_reply": "2024-05-11T14:16:21.219616Z"
    },
    "trusted": true
   },
   "execution_count": 103,
   "outputs": []
  },
  {
   "cell_type": "code",
   "source": [
    "result = []\n",
    "for i in df_test.iloc:\n",
    "    df['dist'] = cosine_distances(np.array([i['emb']]),emd)[0]\n",
    "    rr = df.sort_values(by=['dist'])[['name_ru','dist']][:20]\n",
    "    result.append((i['name'],rr))\n",
    "    "
   ],
   "metadata": {
    "execution": {
     "iopub.status.busy": "2024-05-11T14:22:15.095596Z",
     "iopub.execute_input": "2024-05-11T14:22:15.095947Z",
     "iopub.status.idle": "2024-05-11T14:22:15.365990Z",
     "shell.execute_reply.started": "2024-05-11T14:22:15.095923Z",
     "shell.execute_reply": "2024-05-11T14:22:15.364655Z"
    },
    "trusted": true
   },
   "execution_count": 110,
   "outputs": []
  },
  {
   "cell_type": "code",
   "source": [
    "df2 = df[[\"name_ru\",\"finger\"]].dropna()"
   ],
   "metadata": {
    "execution": {
     "iopub.status.busy": "2024-05-11T14:23:35.300408Z",
     "iopub.execute_input": "2024-05-11T14:23:35.301336Z",
     "iopub.status.idle": "2024-05-11T14:23:35.308581Z",
     "shell.execute_reply.started": "2024-05-11T14:23:35.301301Z",
     "shell.execute_reply": "2024-05-11T14:23:35.307697Z"
    },
    "trusted": true
   },
   "execution_count": 111,
   "outputs": []
  },
  {
   "cell_type": "code",
   "source": [
    "df_test['finger'] = df_test['smiles'].progress_apply(struct_get)"
   ],
   "metadata": {
    "execution": {
     "iopub.status.busy": "2024-05-11T14:25:36.482895Z",
     "iopub.execute_input": "2024-05-11T14:25:36.483814Z",
     "iopub.status.idle": "2024-05-11T14:25:36.545499Z",
     "shell.execute_reply.started": "2024-05-11T14:25:36.483778Z",
     "shell.execute_reply": "2024-05-11T14:25:36.544627Z"
    },
    "trusted": true
   },
   "execution_count": 114,
   "outputs": [
    {
     "name": "stderr",
     "text": "  0%|          | 0/29 [00:00<?, ?it/s][14:25:36] WARNING: not removing hydrogen atom without neighbors\n[14:25:36] WARNING: not removing hydrogen atom without neighbors\n[14:25:36] WARNING: not removing hydrogen atom without neighbors\n[14:25:36] WARNING: not removing hydrogen atom without neighbors\n[14:25:36] WARNING: not removing hydrogen atom without neighbors\n[14:25:36] WARNING: not removing hydrogen atom without neighbors\n[14:25:36] WARNING: not removing hydrogen atom without neighbors\n[14:25:36] WARNING: not removing hydrogen atom without neighbors\n[14:25:36] WARNING: not removing hydrogen atom without neighbors\n100%|██████████| 29/29 [00:00<00:00, 539.04it/s]\n",
     "output_type": "stream"
    }
   ]
  },
  {
   "cell_type": "code",
   "source": [
    "df_test['finger'].isna().sum()"
   ],
   "metadata": {
    "execution": {
     "iopub.status.busy": "2024-05-11T14:25:55.975939Z",
     "iopub.execute_input": "2024-05-11T14:25:55.976333Z",
     "iopub.status.idle": "2024-05-11T14:25:55.983890Z",
     "shell.execute_reply.started": "2024-05-11T14:25:55.976305Z",
     "shell.execute_reply": "2024-05-11T14:25:55.982924Z"
    },
    "trusted": true
   },
   "execution_count": 115,
   "outputs": [
    {
     "execution_count": 115,
     "output_type": "execute_result",
     "data": {
      "text/plain": "0"
     },
     "metadata": {}
    }
   ]
  },
  {
   "cell_type": "code",
   "source": [
    "result1 = []\n",
    "for i in df_test.iloc:\n",
    "    func = lambda x: DataStructs.TanimotoSimilarity(x, i['finger'])\n",
    "    df2['dist'] = df2['finger'].apply(func)\n",
    "    rr = df.sort_values(by=['dist'],ascending=False)[['name_ru','dist']][:20]\n",
    "    result1.append((i['name'],rr))\n",
    "    "
   ],
   "metadata": {
    "execution": {
     "iopub.status.busy": "2024-05-11T14:29:28.798279Z",
     "iopub.execute_input": "2024-05-11T14:29:28.798897Z",
     "iopub.status.idle": "2024-05-11T14:29:29.461490Z",
     "shell.execute_reply.started": "2024-05-11T14:29:28.798857Z",
     "shell.execute_reply": "2024-05-11T14:29:29.460394Z"
    },
    "trusted": true
   },
   "execution_count": 118,
   "outputs": []
  },
  {
   "cell_type": "code",
   "source": [
    "# result\n",
    "for i in result:\n",
    "    print(i[0])\n",
    "    print(i[1])"
   ],
   "metadata": {
    "execution": {
     "iopub.status.busy": "2024-05-11T14:52:15.891752Z",
     "iopub.execute_input": "2024-05-11T14:52:15.892674Z",
     "iopub.status.idle": "2024-05-11T14:52:15.954758Z",
     "shell.execute_reply.started": "2024-05-11T14:52:15.892630Z",
     "shell.execute_reply": "2024-05-11T14:52:15.953808Z"
    },
    "trusted": true
   },
   "execution_count": 123,
   "outputs": [
    {
     "name": "stdout",
     "text": "Меркамин (МЭА, цистеамин)\n                       name_ru      dist\n1338                Гидралазин  0.010050\n1822            Аммония хлорид  0.021982\n1471             Натрия хлорид  0.024919\n1024               Калия йодид  0.029105\n983               Натрия йодид  0.031115\n1680                  Цистамин  0.031500\n1020              Калия бромид  0.036182\n378            Магния пероксид  0.038692\n374           Магния гидроксид  0.039052\n978              Натрия бромид  0.039346\n973             Натрия арсенит  0.042647\n980       Натрия гидрокарбонат  0.043137\n1029              Калия хлорид  0.044662\n1458             Натрия нитрит  0.046975\n976   Натрия ацетата тригидрат  0.047888\n1019              Калия ацетат  0.048949\n1700                 Эмоксипин  0.050425\n447         Метилэтилпиридинол  0.050425\n1461          Натрия салицилат  0.055175\n1026              Калия нитрат  0.055874\nАЭТ\n                                 name_ru      dist\n135                            Триптофан  0.037660\n681                        Сульфаниламид  0.038687\n391                              Мафенид  0.042235\n408                           Мексилетин  0.043573\n878                            Серотонин  0.044284\n1609                  Холина теофиллинат  0.044477\n1062                 Ацексамовая кислота  0.044501\n1191                   Пиридоксальфосфат  0.045868\n1426  Этилметилгидроксипиридина сукцинат  0.046332\n1356                            Гистидин  0.046546\n31                            Албендазол  0.047376\n1524                         Норфенефрин  0.047530\n994                            Ифосфамид  0.047690\n1660                           Циметидин  0.047741\n688                          Суматриптан  0.047826\n407                             Мексамин  0.048429\n1592                      Хлорнитрофенол  0.049205\n718                            Теофиллин  0.049230\n258                 Ризатриптана бензоат  0.049387\n472                            Зонисамид  0.049528\nцистамин\n                       name_ru      dist\n1680                  Цистамин  0.000000\n1338                Гидралазин  0.019735\n1822            Аммония хлорид  0.028399\n374           Магния гидроксид  0.035801\n925                   Минаприн  0.038729\n288                   Дикарбин  0.045429\n1350               Гидроталцит  0.045814\n976   Натрия ацетата тригидрат  0.048449\n1024               Калия йодид  0.048988\n1109               Карбальдрат  0.049163\n796                    Ферамид  0.049903\n1700                 Эмоксипин  0.050914\n447         Метилэтилпиридинол  0.050914\n375            Магния карбонат  0.050977\n983               Натрия йодид  0.051927\n1471             Натрия хлорид  0.052106\n1026              Калия нитрат  0.054113\n1834                   Бамипин  0.054460\n1053               Атомоксетин  0.054797\n335                 Дапоксетин  0.056915\nАмифостин (этиол, WR-2721)\n                   name_ru      dist\n1818             Амифостин  0.000000\n681          Сульфаниламид  0.033478\n423                  Месна  0.037463\n1755                 Лизин  0.037757\n30                  Аланин  0.038142\n24         Азотная кислота  0.038561\n111                Треонин  0.039418\n1062   Ацексамовая кислота  0.040058\n610                Орнитин  0.040699\n1019          Калия ацетат  0.040718\n259   Ризедроновая кислота  0.040875\n1213          Поликрезулен  0.043183\n1839               Батилол  0.043829\n1371  Глутаминовая кислота  0.043878\n449               Метионин  0.044013\n980   Натрия гидрокарбонат  0.045886\n1418             Этамзилат  0.046012\n472              Зонисамид  0.046294\n977         Натрия бензоат  0.047020\n877                  Серин  0.047079\nWR-1065\n                       name_ru      dist\n1680                  Цистамин  0.000137\n1338                Гидралазин  0.019082\n1822            Аммония хлорид  0.027259\n374           Магния гидроксид  0.035236\n925                   Минаприн  0.038713\n1350               Гидроталцит  0.044601\n288                   Дикарбин  0.046061\n976   Натрия ацетата тригидрат  0.047071\n1024               Калия йодид  0.047415\n1109               Карбальдрат  0.047808\n796                    Ферамид  0.049064\n375            Магния карбонат  0.049402\n1700                 Эмоксипин  0.050004\n447         Метилэтилпиридинол  0.050004\n983               Натрия йодид  0.050316\n1471             Натрия хлорид  0.050553\n1026              Калия нитрат  0.052787\n1834                   Бамипин  0.054242\n1053               Атомоксетин  0.054594\n867              Свинца ацетат  0.055536\nМексамин\n                          name_ru          dist\n407                      Мексамин  2.980232e-07\n1848                     Бендазол  1.556212e-02\n1865                  Бензоктамин  1.569587e-02\n1864                  Бензоклидин  2.333152e-02\n346   Дезоксипеганина гидрохлорид  2.806115e-02\n794                   Фепрозиднин  2.851766e-02\n322                   Гранисетрон  2.866602e-02\n845                     Ропинирол  2.927512e-02\n1731                    Левамизол  2.945507e-02\n408                    Мексилетин  2.971375e-02\n1873                     Бепридил  3.132421e-02\n1853                   Бензидамин  3.221387e-02\n792                    Фентоламин  3.242064e-02\n1524                  Норфенефрин  3.272510e-02\n1700                    Эмоксипин  3.392518e-02\n447            Метилэтилпиридинол  3.392518e-02\n1834                      Бамипин  3.397375e-02\n1234   Дифенгидрамина гидрохлорид  3.532237e-02\n1200                    Пирлиндол  3.556460e-02\n448                     Метиндион  3.591955e-02\nСеротонин (ССР)\n                name_ru      dist\n878           Серотонин  0.000000\n257         Ризатриптан  0.029454\n1174           Пиндолол  0.031577\n31           Албендазол  0.033775\n1125         Карведилол  0.034628\n1356           Гистидин  0.034637\n994           Ифосфамид  0.034877\n135           Триптофан  0.036374\n1657      Циклофосфамид  0.042042\n718           Теофиллин  0.042630\n1660          Циметидин  0.043885\n1429          Этилэфрин  0.044504\n1435           Этодолак  0.044859\n1503          Ниморазол  0.045323\n939            Молиндон  0.045465\n1592     Хлорнитрофенол  0.046355\n1112        Карбендацим  0.047535\n1077          Аципимокс  0.048214\n1170         Пилокарпин  0.048233\n1191  Пиридоксальфосфат  0.048417\nМелатонин (ССР)\n                                 name_ru      dist\n3                             Агомелатин  0.017177\n959                            Набуметон  0.019150\n939                             Молиндон  0.019299\n31                            Албендазол  0.019434\n1356                            Гистидин  0.019704\n718                            Теофиллин  0.020463\n1401                          Бопиндолол  0.022751\n717                            Теобромин  0.023112\n688                          Суматриптан  0.024020\n1303                              Кофеин  0.025848\n232                              Пуфемид  0.025877\n313                     Диоксопрометазин  0.026281\n968                            Напроксен  0.026413\n1226                         Дипрофиллин  0.026851\n135                            Триптофан  0.027004\n1609                  Холина теофиллинат  0.027377\n1660                           Циметидин  0.027535\n710                         Темгиколурил  0.027955\n733   Тетраметилтетраазабициклооктандион  0.027955\n644                          Пентифиллин  0.028116\nДифетур, Т-1023\n                       name_ru      dist\n168                  Бусульфан  0.052491\n1058               Ауротиопрол  0.054224\n1156       Клодроновая кислота  0.054678\n1418                 Этамзилат  0.058750\n84        Тозилхлорамид натрия  0.061559\n293               Диклофенамид  0.062763\n259       Ризедроновая кислота  0.063769\n1465  Натрия тетрадецилсульфат  0.064362\n1042         Аргинина аспартат  0.064505\n1838             Бария сульфат  0.064842\n523           Вальпроат натрия  0.066146\n469       Золедроновая кислота  0.066323\n112                Треосульфан  0.066335\n400               Меди сульфат  0.068505\n1668             Цинка сульфат  0.068904\n670                   Сультиам  0.069468\n1557                Фотемустин  0.069852\n1607        Холина альфосцерат  0.070036\n1798     Амезиния метилсульфат  0.070376\n1457             Натрия лактат  0.070430\nНафазолин\n               name_ru      dist\n1473         Нафазолин  0.000000\n1037         Антазолин  0.017434\n448          Метиндион  0.020181\n692           Таластин  0.020481\n408         Мексилетин  0.026111\n161           Бумекаин  0.027026\n1718         Эпробемид  0.027084\n1810      Аминостигмин  0.028348\n505           Имоламин  0.028486\n949          Моринамид  0.028633\n1853        Бензидамин  0.029143\n1865       Бензоктамин  0.029721\n1837   Барбитал натрий  0.029813\n598        Окспренолол  0.030325\n665         Сулоктидил  0.030748\n1864       Бензоклидин  0.031096\n840         Роксатидин  0.031240\n711            Темехин  0.031566\n141   Троклосен натрия  0.031763\n319   Гомохлорциклизин  0.031931\nТокоферола сукцинат\n                         name_ru      dist\n1114               Карбеноксолон  0.073990\n1055        Аторвастатин кальций  0.074910\n942                    Мометазон  0.077443\n659                 Строфантин-К  0.083676\n1264                  Доцетаксел  0.085770\n440   Метилпреднизолона ацепонат  0.091618\n1566                 Фторметолон  0.092628\n349                 Дексаметазон  0.094028\n1544                  Фозиноприл  0.094375\n1633                  Цефпирамид  0.094969\n1541             Окситетрациклин  0.095301\n1001                  Йодиксанол  0.095604\n1218                 Правастатин  0.095729\n347                 Декаметоксин  0.096534\n401          Медроксипрогестерон  0.096749\n1768                  Ловастатин  0.097131\n1844                Беклометазон  0.097377\n546                    Витамин E  0.097535\n1262                   Дорипенем  0.097985\n159                    Будесонид  0.098065\nү-токотриенол (GT3)\n                    name_ru      dist\n493            Изотретиноин  0.026758\n1078              Ацитретин  0.028812\n114               Третиноин  0.029656\n801            Фитоменадион  0.029678\n251                 Ретинол  0.036051\n1651             Цикловалон  0.038114\n921    Микофенолата мофетил  0.042380\n546               Витамин E  0.042521\n1707              Энтакапон  0.042617\n628           Парикальцитол  0.043643\n140            Трихомонацид  0.043651\n28               Акривастин  0.043759\n922   Микофеноловая кислота  0.044582\n310             Динопростон  0.045034\n1637             Цефтибутен  0.046022\n1645                Цигерол  0.046252\n1730              Лацидипин  0.046301\n309               Динопрост  0.046571\n1244     Диэтилстильбэстрол  0.048036\n1556             Фосфэстрол  0.049244\nО-токотриенол (DT3)\n                  name_ru      dist\n39               Аллетрин  0.020669\n1405            Эсбиотрин  0.020669\n1388           Биклотимол  0.021313\n182            Праллетрин  0.023421\n1221           Дипивефрин  0.023726\n450          Метипранолол  0.024139\n1467       Натрия уснинат  0.024950\n903             Спираприл  0.025103\n784              Фенотрин  0.025568\n727            Терфенадин  0.025746\n1688           Цифенотрин  0.026344\n546             Витамин E  0.026513\n173   Бутилгидрокситолуол  0.026580\n565            Галлопамил  0.026637\n1063           Ацеметацин  0.026821\n759          Фексофенадин  0.027238\n1690              Эбастин  0.027426\n1796          Амбризентан  0.027563\n503            Имипротрин  0.027697\n1540        Оксиметазолин  0.027798\nPAC5\n                    name_ru      dist\n57              Тикарциллин  0.051558\n1620             Цефалексин  0.052275\n460     Метопролола тартрат  0.053784\n1015  Йохимбина гидрохлорид  0.054107\n1079          Бакампициллин  0.055052\n1179           Пиперациллин  0.055756\n1630            Цефоперазон  0.057864\n1824           Амоксициллин  0.060874\n519          Валганцикловир  0.060982\n1113          Карбенициллин  0.061145\n289          Диклоксациллин  0.061822\n1699    Эметина гидрохлорид  0.062173\n1744    Левотироксин натрия  0.063888\n1621              Цефалотин  0.065081\n1096        Кальция фолинат  0.067412\n1547     Фолиниевая кислота  0.067412\n1751           Лерканидипин  0.067704\n1151    Клемизол пенициллин  0.068223\n1176     Пипекурония бромид  0.068857\n81                Тирофибан  0.068991\nАпигенин\n             name_ru      dist\n594    Оксифенизатин  0.043961\n848       Рофекоксиб  0.047203\n1064    Аценокумарол  0.050592\n1596  Хлоротрианизен  0.050921\n730       Тетразепам  0.051757\n147      Бромадиолон  0.051934\n1063      Ацеметацин  0.054091\n1651      Цикловалон  0.054992\n513      Индометацин  0.055049\n781     Фенолфталеин  0.055659\n1603     Хлорфасинон  0.055857\n240        Ранолазин  0.055868\n1393       Бисакодил  0.056038\n1299        Колхицин  0.057831\n1336       Гидазепам  0.058123\n1551      Формотерол  0.058187\n1141      Кетансерин  0.058394\n592       Оксифедрин  0.058793\n1842      Безафибрат  0.059042\n815    Флунитразепам  0.059939\nБергенин\n                          name_ru      dist\n1220                      Диосмин  0.191470\n274           Дигидрострептомицин  0.202953\n531              Векурония бромид  0.215235\n487                     Изолейцин  0.216806\n1069  Ацетиламиноянтарная кислота  0.222774\n1329                   Гесперидин  0.223203\n340                  Даунорубицин  0.225023\n855                       Рутозид  0.229424\n655                  Стрептомицин  0.234845\n1439                     Этопозид  0.236656\n885                     Сизомицин  0.239211\n1682                       Цистин  0.246535\n1126          Карглумовая кислота  0.247415\n1252                  Доксициклин  0.252770\n96                      Топирамат  0.255378\n746                        Уабаин  0.256029\n279                    Дигитоксин  0.256272\n315           Глюкозамина сульфат  0.256923\n482                    Идарубицин  0.257004\n277              Дигидроэрготамин  0.257814\nХлорогеновая кислота\n                  name_ru      dist\n497              Илопрост  0.049806\n1390          Биматопрост  0.054796\n628         Парикальцитол  0.056906\n1728          Латанопрост  0.059001\n46            Алпростадил  0.062780\n918           Мизопростол  0.064152\n102            Травопрост  0.064399\n1626             Цефиксим  0.065337\n752            Унопростон  0.066185\n839          Розувастатин  0.071274\n1519           Номифензин  0.071821\n1637           Цефтибутен  0.072124\n514    Индоцианин зеленый  0.073414\n275     Дигидротахистерол  0.074220\n64        Тимолола малеат  0.074453\n479              Ибутилид  0.075843\n462           Метофеназат  0.077240\n735           Тетрациклин  0.078035\n114             Третиноин  0.079474\n1614  Церивастатин натрия  0.079917\nКонифериловый альдегид\n                    name_ru      dist\n1035                 Анетол  0.028894\n1106              Капсаицин  0.034849\n304          Диметилфумарат  0.039690\n1564               Фтивазид  0.051351\n897      Сорбиновая кислота  0.052675\n1308             Кротамитон  0.054262\n1078              Ацитретин  0.054330\n1475               Нафтифин  0.055472\n1183               Пирантел  0.061425\n720              Тербинафин  0.061873\n133             Трипролидин  0.063691\n922   Микофеноловая кислота  0.063737\n1545                 Фоксим  0.064872\n1572            Фуразолидон  0.065118\n479                Ибутилид  0.065435\n310             Динопростон  0.066781\n1651             Цикловалон  0.067907\n606               Опиниазид  0.070779\n1637             Цефтибутен  0.071591\n309               Динопрост  0.072223\nКуркумин\n                    name_ru      dist\n1078              Ацитретин  0.028724\n1651             Цикловалон  0.033051\n921    Микофенолата мофетил  0.033945\n922   Микофеноловая кислота  0.035822\n1106              Капсаицин  0.035871\n1730              Лацидипин  0.039878\n493            Изотретиноин  0.040311\n114               Третиноин  0.040466\n1308             Кротамитон  0.040996\n1707              Энтакапон  0.043095\n1519             Номифензин  0.043658\n310             Динопростон  0.043701\n462             Метофеназат  0.043807\n140            Трихомонацид  0.044917\n309               Динопрост  0.046881\n1564               Фтивазид  0.048484\n1556             Фосфэстрол  0.048533\n28               Акривастин  0.048842\n268               Диацереин  0.050056\n1244     Диэтилстильбэстрол  0.050591\nЭпигаллокатехин-3-галлата\n                        name_ru      dist\n272            Дигидрокверцетин  0.032404\n1642                 Цианиданол  0.036311\n1192               Пиридоксилат  0.040530\n289              Диклоксациллин  0.040772\n460         Метопролола тартрат  0.040860\n955                  Моэксиприл  0.041308\n465                  Метризамид  0.041871\n1744        Левотироксин натрия  0.044682\n1630                Цефоперазон  0.046262\n1304             Кофеина цитрат  0.046969\n339                   Дарунавир  0.047186\n833                   Ритонавир  0.047543\n749                  Улипристал  0.047584\n510                   Индинавир  0.048015\n1533                 Оксациллин  0.048113\n1159               Клоксациллин  0.048218\n887                  Силденафил  0.048855\n1824               Амоксициллин  0.048904\n1325  Лаппаконитина гидробромид  0.049094\n1481                 Нелфинавир  0.049465\nФеруловая кислота\n                    name_ru      dist\n304          Диметилфумарат  0.029299\n1106              Капсаицин  0.029427\n1035                 Анетол  0.037629\n1308             Кротамитон  0.040477\n1564               Фтивазид  0.042757\n897      Сорбиновая кислота  0.044846\n922   Микофеноловая кислота  0.044850\n1651             Цикловалон  0.045263\n1078              Ацитретин  0.045681\n606               Опиниазид  0.046344\n1572            Фуразолидон  0.047162\n310             Динопростон  0.047324\n1707              Энтакапон  0.050128\n1556             Фосфэстрол  0.051111\n309               Динопрост  0.051559\n108               Траниласт  0.054101\n921    Микофенолата мофетил  0.054567\n1516              Нифурател  0.054587\n1519             Номифензин  0.055111\n1637             Цефтибутен  0.055235\nГенистеин\n                    name_ru      dist\n848              Рофекоксиб  0.036586\n1603            Хлорфасинон  0.037899\n581           Гексобарбитал  0.038766\n730              Тетразепам  0.041730\n594           Оксифенизатин  0.043067\n1063             Ацеметацин  0.048144\n513             Индометацин  0.048338\n795              Фепромарон  0.048569\n530                Варфарин  0.049961\n988              Иприфлавон  0.051352\n1712              Эпервудин  0.051372\n232                 Пуфемид  0.051526\n781            Фенолфталеин  0.052422\n1064           Аценокумарол  0.053453\n775                Фенитоин  0.054380\n53    Тиапрофеновая кислота  0.054657\n1235          Дифенилтропин  0.054678\n592              Оксифедрин  0.054741\n1653          Циклопентолат  0.055283\n1842             Безафибрат  0.055594\nРесвератрол\n                  name_ru      dist\n1651           Цикловалон  0.032149\n1528              Озагрел  0.032656\n1707            Энтакапон  0.032695\n108             Траниласт  0.036070\n1517         Нифуроксазид  0.039494\n1571            Фуразидин  0.039938\n1244   Диэтилстильбэстрол  0.040334\n584            Гексэстрол  0.042657\n309             Динопрост  0.043088\n604            Олопатадин  0.043544\n89               Толкапон  0.043581\n694            Тамоксифен  0.045003\n1842           Безафибрат  0.045510\n1573          Фуральтадон  0.045702\n1519           Номифензин  0.045990\n151   Бромебровая кислота  0.046061\n1246            Добутамин  0.046348\n1551           Формотерол  0.046395\n310           Динопростон  0.046717\n1393            Бисакодил  0.046802\nГесперидин\n                         name_ru      dist\n1329                  Гесперидин  0.000000\n1220                     Диосмин  0.024898\n659                 Строфантин-К  0.069824\n1253                Доксорубицин  0.074526\n159                    Будесонид  0.077608\n942                    Мометазон  0.078073\n401          Медроксипрогестерон  0.080920\n842             Рокурония бромид  0.082005\n1218                 Правастатин  0.082509\n440   Метилпреднизолона ацепонат  0.082562\n1264                  Доцетаксел  0.082950\n439             Метилпреднизолон  0.083583\n1575   Хенодеоксихолевая кислота  0.083939\n340                 Даунорубицин  0.087113\n421                    Меропенем  0.087118\n749                   Улипристал  0.087464\n754   Урсодезоксихолевая кислота  0.088471\n1176          Пипекурония бромид  0.088951\n621            Панкурония бромид  0.089577\n1844                Беклометазон  0.089601\nЛикопин\n                    name_ru      dist\n1380            Бетакаротен  0.100199\n748            Убидекаренон  0.125729\n1333               Гефарнат  0.126700\n372   Джозамицина пропионат  0.193864\n275       Дигидротахистерол  0.195622\n1742                Леворин  0.202553\n1569      Фузидовая кислота  0.207919\n493            Изотретиноин  0.209282\n114               Третиноин  0.213535\n251                 Ретинол  0.214984\n1721        Эргокальциферол  0.215199\n838              Рифапентин  0.216405\n890             Симвастатин  0.217781\n1033            Кальцитриол  0.220030\n915             Мидекамицин  0.221894\n1296        Колекальциферол  0.224134\n956               Мупироцин  0.230523\n1788         Альфакальцидол  0.235930\n1031          Кальципотриол  0.247423\n667            Сульбутиамин  0.254099\nСезамол\n                name_ru      dist\n58           Тиклопидин  0.055231\n342          Дезипрамин  0.060793\n1212        Полидоканол  0.082496\n1248          Докозанол  0.085931\n1160        Клометиазол  0.090587\n1495            Никотин  0.092091\n529          Варениклин  0.095163\n502           Имипрамин  0.096576\n1729  Лауромакрогол 400  0.096649\n1523       Нортриптилин  0.099812\n1355           Гистамин  0.107513\n208            Промазин  0.107825\n1817       Амитриптилин  0.113105\n765           Фенетазин  0.113881\n985           Ипидакрин  0.113936\n122            Триентин  0.118436\n929          Миртазапин  0.118591\n131         Тримипрамин  0.125915\n177         Бутриптилин  0.127468\n73           Тиоридазин  0.128355\nТроксерутин\n                     name_ru      dist\n142              Троксерутин  0.000000\n1316                 Лактоза  0.050736\n1327              Гентамицин  0.051475\n1479       Недокромил натрия  0.051638\n1478              Недокромил  0.055221\n269                Дибекацин  0.057561\n1315                Лактитол  0.057909\n1306  Кромоглициевая кислота  0.058227\n603   Олмесартана медоксомил  0.058316\n1131               Карубицин  0.059229\n1192            Пиридоксилат  0.059557\n887               Силденафил  0.059894\n419           Мепросцилларин  0.060416\n97                 Топотекан  0.062679\n990               Иринотекан  0.062696\n1304          Кофеина цитрат  0.064525\n1711                   Эозин  0.065440\n993              Итраконазол  0.066084\n1103  Кандесартан цилексетил  0.066828\n1630             Цефоперазон  0.067015\nВанилин\n                          name_ru      dist\n1801                   Амилнитрит  0.033708\n751         Ундециленовая кислота  0.034727\n1804       Аминобензойная кислота  0.037260\n626                   Парацетамол  0.038849\n534                    Вигабатрин  0.039224\n422                     Месалазин  0.042894\n524           Вальпроевая кислота  0.045151\n17            Азелаиновая кислота  0.045156\n1807  Аминометилбензойная кислота  0.045370\n767                   Фенилаланин  0.046161\n80                        Тирозин  0.046961\n30                         Аланин  0.047064\n861           Салициловая кислота  0.047677\n1809     Аминосалициловая кислота  0.048071\n1854                Бензилбензоат  0.048640\n62                          Тимол  0.049194\n1749                       Лейцин  0.050309\n70              Тиоктовая кислота  0.050550\n959                     Набуметон  0.051440\n207                        Пролин  0.051485\nЗингерон\n                        name_ru      dist\n1809   Аминосалициловая кислота  0.026399\n534                  Вигабатрин  0.028541\n959                   Набуметон  0.029878\n422                   Месалазин  0.030395\n478                   Ибупрофен  0.030735\n524         Вальпроевая кислота  0.031079\n80                      Тирозин  0.032978\n1801                 Амилнитрит  0.033780\n303               Диметилфталат  0.034272\n17          Азелаиновая кислота  0.034482\n1441                Этосуксимид  0.034586\n1371       Глутаминовая кислота  0.034786\n626                 Парацетамол  0.034858\n1804     Аминобензойная кислота  0.035546\n767                 Фенилаланин  0.035745\n1735                   Леводопа  0.036819\n751       Ундециленовая кислота  0.036882\n1122               Карбоцистеин  0.037207\n1073  Ацетилсалициловая кислота  0.037987\n1491                  Никетамид  0.038014\n",
     "output_type": "stream"
    }
   ]
  },
  {
   "cell_type": "code",
   "source": [
    "cas = '7689-03-4'\n",
    "smiles = cirpy_cas_smiles(cas)"
   ],
   "metadata": {
    "execution": {
     "iopub.status.busy": "2024-05-11T14:57:48.324277Z",
     "iopub.execute_input": "2024-05-11T14:57:48.324701Z",
     "iopub.status.idle": "2024-05-11T14:57:48.966896Z",
     "shell.execute_reply.started": "2024-05-11T14:57:48.324670Z",
     "shell.execute_reply": "2024-05-11T14:57:48.966113Z"
    },
    "trusted": true
   },
   "execution_count": 124,
   "outputs": []
  },
  {
   "cell_type": "code",
   "source": [
    "smiles"
   ],
   "metadata": {
    "execution": {
     "iopub.status.busy": "2024-05-11T14:57:53.780305Z",
     "iopub.execute_input": "2024-05-11T14:57:53.780644Z",
     "iopub.status.idle": "2024-05-11T14:57:53.786530Z",
     "shell.execute_reply.started": "2024-05-11T14:57:53.780619Z",
     "shell.execute_reply": "2024-05-11T14:57:53.785579Z"
    },
    "trusted": true
   },
   "execution_count": 125,
   "outputs": [
    {
     "execution_count": 125,
     "output_type": "execute_result",
     "data": {
      "text/plain": "'CC[C@@]1(O)C(=O)OCC2=C1C=C3N(Cc4cc5ccccc5nc34)C2=O'"
     },
     "metadata": {}
    }
   ]
  },
  {
   "cell_type": "code",
   "source": [
    "emding = embed_bert_cls([smiles],model,tokenizer)"
   ],
   "metadata": {
    "execution": {
     "iopub.status.busy": "2024-05-11T14:58:39.548858Z",
     "iopub.execute_input": "2024-05-11T14:58:39.549285Z",
     "iopub.status.idle": "2024-05-11T14:58:39.581558Z",
     "shell.execute_reply.started": "2024-05-11T14:58:39.549254Z",
     "shell.execute_reply": "2024-05-11T14:58:39.580636Z"
    },
    "trusted": true
   },
   "execution_count": 126,
   "outputs": []
  },
  {
   "cell_type": "code",
   "source": [],
   "metadata": {
    "trusted": true
   },
   "execution_count": null,
   "outputs": []
  },
  {
   "cell_type": "code",
   "source": [
    "finger = struct_get(smiles)"
   ],
   "metadata": {
    "execution": {
     "iopub.status.busy": "2024-05-11T14:59:08.796177Z",
     "iopub.execute_input": "2024-05-11T14:59:08.796664Z",
     "iopub.status.idle": "2024-05-11T14:59:08.808103Z",
     "shell.execute_reply.started": "2024-05-11T14:59:08.796628Z",
     "shell.execute_reply": "2024-05-11T14:59:08.806949Z"
    },
    "trusted": true
   },
   "execution_count": 127,
   "outputs": []
  },
  {
   "cell_type": "code",
   "source": [
    "finger"
   ],
   "metadata": {
    "execution": {
     "iopub.status.busy": "2024-05-11T14:59:13.978059Z",
     "iopub.execute_input": "2024-05-11T14:59:13.978937Z",
     "iopub.status.idle": "2024-05-11T14:59:13.984859Z",
     "shell.execute_reply.started": "2024-05-11T14:59:13.978902Z",
     "shell.execute_reply": "2024-05-11T14:59:13.983848Z"
    },
    "trusted": true
   },
   "execution_count": 128,
   "outputs": [
    {
     "execution_count": 128,
     "output_type": "execute_result",
     "data": {
      "text/plain": "<rdkit.DataStructs.cDataStructs.ExplicitBitVect at 0x7c3ac9cc3610>"
     },
     "metadata": {}
    }
   ]
  },
  {
   "cell_type": "code",
   "source": [
    "df['dist'] = cosine_distances(emding,emd)[0]\n",
    "rr = df.sort_values(by=['dist'])[['name_ru','dist']][:20]"
   ],
   "metadata": {
    "execution": {
     "iopub.status.busy": "2024-05-11T15:00:25.038537Z",
     "iopub.execute_input": "2024-05-11T15:00:25.039209Z",
     "iopub.status.idle": "2024-05-11T15:00:25.057541Z",
     "shell.execute_reply.started": "2024-05-11T15:00:25.039179Z",
     "shell.execute_reply": "2024-05-11T15:00:25.056043Z"
    },
    "trusted": true
   },
   "execution_count": 130,
   "outputs": []
  },
  {
   "cell_type": "code",
   "source": [
    "rr"
   ],
   "metadata": {
    "execution": {
     "iopub.status.busy": "2024-05-11T15:00:29.773921Z",
     "iopub.execute_input": "2024-05-11T15:00:29.774804Z",
     "iopub.status.idle": "2024-05-11T15:00:29.787468Z",
     "shell.execute_reply.started": "2024-05-11T15:00:29.774770Z",
     "shell.execute_reply": "2024-05-11T15:00:29.786701Z"
    },
    "trusted": true
   },
   "execution_count": 131,
   "outputs": [
    {
     "execution_count": 131,
     "output_type": "execute_result",
     "data": {
      "text/plain": "             name_ru      dist\n1627      Цефметазол  0.020579\n1733     Левобунолол  0.023471\n247       Репаглинид  0.023769\n1438    Этоногестрел  0.023917\n743       Троподифен  0.024088\n541       Винпоцетин  0.024440\n903        Спираприл  0.025258\n324    Гризеофульвин  0.026924\n1629      Цефокситин  0.027041\n323   Грепафлоксацин  0.027263\n501         Имипенем  0.027435\n1535      Оксендолон  0.027461\n687   Сульфинпиразон  0.027902\n1118     Карбокромен  0.028285\n1698      Элетриптан  0.028553\n1846      Беназеприл  0.028841\n511        Индобуфен  0.028896\n753         Урапидил  0.028898\n97         Топотекан  0.029179\n354     Дексразоксан  0.029273",
      "text/html": "<div>\n<style scoped>\n    .dataframe tbody tr th:only-of-type {\n        vertical-align: middle;\n    }\n\n    .dataframe tbody tr th {\n        vertical-align: top;\n    }\n\n    .dataframe thead th {\n        text-align: right;\n    }\n</style>\n<table border=\"1\" class=\"dataframe\">\n  <thead>\n    <tr style=\"text-align: right;\">\n      <th></th>\n      <th>name_ru</th>\n      <th>dist</th>\n    </tr>\n  </thead>\n  <tbody>\n    <tr>\n      <th>1627</th>\n      <td>Цефметазол</td>\n      <td>0.020579</td>\n    </tr>\n    <tr>\n      <th>1733</th>\n      <td>Левобунолол</td>\n      <td>0.023471</td>\n    </tr>\n    <tr>\n      <th>247</th>\n      <td>Репаглинид</td>\n      <td>0.023769</td>\n    </tr>\n    <tr>\n      <th>1438</th>\n      <td>Этоногестрел</td>\n      <td>0.023917</td>\n    </tr>\n    <tr>\n      <th>743</th>\n      <td>Троподифен</td>\n      <td>0.024088</td>\n    </tr>\n    <tr>\n      <th>541</th>\n      <td>Винпоцетин</td>\n      <td>0.024440</td>\n    </tr>\n    <tr>\n      <th>903</th>\n      <td>Спираприл</td>\n      <td>0.025258</td>\n    </tr>\n    <tr>\n      <th>324</th>\n      <td>Гризеофульвин</td>\n      <td>0.026924</td>\n    </tr>\n    <tr>\n      <th>1629</th>\n      <td>Цефокситин</td>\n      <td>0.027041</td>\n    </tr>\n    <tr>\n      <th>323</th>\n      <td>Грепафлоксацин</td>\n      <td>0.027263</td>\n    </tr>\n    <tr>\n      <th>501</th>\n      <td>Имипенем</td>\n      <td>0.027435</td>\n    </tr>\n    <tr>\n      <th>1535</th>\n      <td>Оксендолон</td>\n      <td>0.027461</td>\n    </tr>\n    <tr>\n      <th>687</th>\n      <td>Сульфинпиразон</td>\n      <td>0.027902</td>\n    </tr>\n    <tr>\n      <th>1118</th>\n      <td>Карбокромен</td>\n      <td>0.028285</td>\n    </tr>\n    <tr>\n      <th>1698</th>\n      <td>Элетриптан</td>\n      <td>0.028553</td>\n    </tr>\n    <tr>\n      <th>1846</th>\n      <td>Беназеприл</td>\n      <td>0.028841</td>\n    </tr>\n    <tr>\n      <th>511</th>\n      <td>Индобуфен</td>\n      <td>0.028896</td>\n    </tr>\n    <tr>\n      <th>753</th>\n      <td>Урапидил</td>\n      <td>0.028898</td>\n    </tr>\n    <tr>\n      <th>97</th>\n      <td>Топотекан</td>\n      <td>0.029179</td>\n    </tr>\n    <tr>\n      <th>354</th>\n      <td>Дексразоксан</td>\n      <td>0.029273</td>\n    </tr>\n  </tbody>\n</table>\n</div>"
     },
     "metadata": {}
    }
   ]
  },
  {
   "cell_type": "code",
   "source": [
    "print(rr)"
   ],
   "metadata": {
    "execution": {
     "iopub.status.busy": "2024-05-11T15:00:41.211690Z",
     "iopub.execute_input": "2024-05-11T15:00:41.212058Z",
     "iopub.status.idle": "2024-05-11T15:00:41.219388Z",
     "shell.execute_reply.started": "2024-05-11T15:00:41.212030Z",
     "shell.execute_reply": "2024-05-11T15:00:41.218316Z"
    },
    "trusted": true
   },
   "execution_count": 132,
   "outputs": [
    {
     "name": "stdout",
     "text": "             name_ru      dist\n1627      Цефметазол  0.020579\n1733     Левобунолол  0.023471\n247       Репаглинид  0.023769\n1438    Этоногестрел  0.023917\n743       Троподифен  0.024088\n541       Винпоцетин  0.024440\n903        Спираприл  0.025258\n324    Гризеофульвин  0.026924\n1629      Цефокситин  0.027041\n323   Грепафлоксацин  0.027263\n501         Имипенем  0.027435\n1535      Оксендолон  0.027461\n687   Сульфинпиразон  0.027902\n1118     Карбокромен  0.028285\n1698      Элетриптан  0.028553\n1846      Беназеприл  0.028841\n511        Индобуфен  0.028896\n753         Урапидил  0.028898\n97         Топотекан  0.029179\n354     Дексразоксан  0.029273\n",
     "output_type": "stream"
    }
   ]
  },
  {
   "cell_type": "code",
   "source": [
    "func = lambda x: DataStructs.TanimotoSimilarity(x, finger)\n",
    "df2['dist'] = df2['finger'].apply(func)\n",
    "rr = df.sort_values(by=['dist'],ascending=False)[['name_ru','dist']][:20]\n"
   ],
   "metadata": {
    "execution": {
     "iopub.status.busy": "2024-05-11T15:01:35.528288Z",
     "iopub.execute_input": "2024-05-11T15:01:35.528695Z",
     "iopub.status.idle": "2024-05-11T15:01:35.548432Z",
     "shell.execute_reply.started": "2024-05-11T15:01:35.528665Z",
     "shell.execute_reply": "2024-05-11T15:01:35.547485Z"
    },
    "trusted": true
   },
   "execution_count": 133,
   "outputs": []
  },
  {
   "cell_type": "code",
   "source": [
    "rr"
   ],
   "metadata": {
    "execution": {
     "iopub.status.busy": "2024-05-11T15:01:37.201611Z",
     "iopub.execute_input": "2024-05-11T15:01:37.202288Z",
     "iopub.status.idle": "2024-05-11T15:01:37.213369Z",
     "shell.execute_reply.started": "2024-05-11T15:01:37.202256Z",
     "shell.execute_reply": "2024-05-11T15:01:37.212368Z"
    },
    "trusted": true
   },
   "execution_count": 134,
   "outputs": [
    {
     "execution_count": 134,
     "output_type": "execute_result",
     "data": {
      "text/plain": "                      name_ru      dist\n1615                Церулетид  0.939637\n705               Тейкопланин  0.926342\n1386              Бивалирудин  0.922593\n1723                Эрготамин  0.922292\n602                Оливомицин  0.922182\n1150            Кларитромицин  0.918483\n1297                 Колистин  0.917201\n1414                    Эсцин  0.914132\n1725              Эритромицин  0.908918\n527                Ванкомицин  0.908433\n1559               Фрамицетин  0.903178\n1710               Энфувиртид  0.901116\n1036            Анидулафунгин  0.900406\n61                Тимальфазин  0.898720\n332               Далбаванцин  0.891147\n1370  Глицирризиновая кислота  0.886024\n337                Даптомицин  0.885598\n1115               Карбетоцин  0.884595\n1691               Эверолимус  0.882096\n27                   Акарбоза  0.881268",
      "text/html": "<div>\n<style scoped>\n    .dataframe tbody tr th:only-of-type {\n        vertical-align: middle;\n    }\n\n    .dataframe tbody tr th {\n        vertical-align: top;\n    }\n\n    .dataframe thead th {\n        text-align: right;\n    }\n</style>\n<table border=\"1\" class=\"dataframe\">\n  <thead>\n    <tr style=\"text-align: right;\">\n      <th></th>\n      <th>name_ru</th>\n      <th>dist</th>\n    </tr>\n  </thead>\n  <tbody>\n    <tr>\n      <th>1615</th>\n      <td>Церулетид</td>\n      <td>0.939637</td>\n    </tr>\n    <tr>\n      <th>705</th>\n      <td>Тейкопланин</td>\n      <td>0.926342</td>\n    </tr>\n    <tr>\n      <th>1386</th>\n      <td>Бивалирудин</td>\n      <td>0.922593</td>\n    </tr>\n    <tr>\n      <th>1723</th>\n      <td>Эрготамин</td>\n      <td>0.922292</td>\n    </tr>\n    <tr>\n      <th>602</th>\n      <td>Оливомицин</td>\n      <td>0.922182</td>\n    </tr>\n    <tr>\n      <th>1150</th>\n      <td>Кларитромицин</td>\n      <td>0.918483</td>\n    </tr>\n    <tr>\n      <th>1297</th>\n      <td>Колистин</td>\n      <td>0.917201</td>\n    </tr>\n    <tr>\n      <th>1414</th>\n      <td>Эсцин</td>\n      <td>0.914132</td>\n    </tr>\n    <tr>\n      <th>1725</th>\n      <td>Эритромицин</td>\n      <td>0.908918</td>\n    </tr>\n    <tr>\n      <th>527</th>\n      <td>Ванкомицин</td>\n      <td>0.908433</td>\n    </tr>\n    <tr>\n      <th>1559</th>\n      <td>Фрамицетин</td>\n      <td>0.903178</td>\n    </tr>\n    <tr>\n      <th>1710</th>\n      <td>Энфувиртид</td>\n      <td>0.901116</td>\n    </tr>\n    <tr>\n      <th>1036</th>\n      <td>Анидулафунгин</td>\n      <td>0.900406</td>\n    </tr>\n    <tr>\n      <th>61</th>\n      <td>Тимальфазин</td>\n      <td>0.898720</td>\n    </tr>\n    <tr>\n      <th>332</th>\n      <td>Далбаванцин</td>\n      <td>0.891147</td>\n    </tr>\n    <tr>\n      <th>1370</th>\n      <td>Глицирризиновая кислота</td>\n      <td>0.886024</td>\n    </tr>\n    <tr>\n      <th>337</th>\n      <td>Даптомицин</td>\n      <td>0.885598</td>\n    </tr>\n    <tr>\n      <th>1115</th>\n      <td>Карбетоцин</td>\n      <td>0.884595</td>\n    </tr>\n    <tr>\n      <th>1691</th>\n      <td>Эверолимус</td>\n      <td>0.882096</td>\n    </tr>\n    <tr>\n      <th>27</th>\n      <td>Акарбоза</td>\n      <td>0.881268</td>\n    </tr>\n  </tbody>\n</table>\n</div>"
     },
     "metadata": {}
    }
   ]
  },
  {
   "cell_type": "code",
   "source": [
    "print(rr)"
   ],
   "metadata": {
    "execution": {
     "iopub.status.busy": "2024-05-11T15:01:44.647169Z",
     "iopub.execute_input": "2024-05-11T15:01:44.647840Z",
     "iopub.status.idle": "2024-05-11T15:01:44.654990Z",
     "shell.execute_reply.started": "2024-05-11T15:01:44.647808Z",
     "shell.execute_reply": "2024-05-11T15:01:44.653991Z"
    },
    "trusted": true
   },
   "execution_count": 135,
   "outputs": [
    {
     "name": "stdout",
     "text": "                      name_ru      dist\n1615                Церулетид  0.939637\n705               Тейкопланин  0.926342\n1386              Бивалирудин  0.922593\n1723                Эрготамин  0.922292\n602                Оливомицин  0.922182\n1150            Кларитромицин  0.918483\n1297                 Колистин  0.917201\n1414                    Эсцин  0.914132\n1725              Эритромицин  0.908918\n527                Ванкомицин  0.908433\n1559               Фрамицетин  0.903178\n1710               Энфувиртид  0.901116\n1036            Анидулафунгин  0.900406\n61                Тимальфазин  0.898720\n332               Далбаванцин  0.891147\n1370  Глицирризиновая кислота  0.886024\n337                Даптомицин  0.885598\n1115               Карбетоцин  0.884595\n1691               Эверолимус  0.882096\n27                   Акарбоза  0.881268\n",
     "output_type": "stream"
    }
   ]
  },
  {
   "cell_type": "code",
   "source": [],
   "metadata": {},
   "execution_count": null,
   "outputs": []
  }
 ]
}
